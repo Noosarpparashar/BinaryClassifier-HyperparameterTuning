{
 "cells": [
  {
   "cell_type": "code",
   "execution_count": 1,
   "metadata": {},
   "outputs": [],
   "source": [
    "import numpy as np\n",
    "import matplotlib.pyplot as plt\n",
    "import pandas as pd"
   ]
  },
  {
   "cell_type": "code",
   "execution_count": 2,
   "metadata": {},
   "outputs": [
    {
     "data": {
      "text/html": [
       "<div>\n",
       "<style scoped>\n",
       "    .dataframe tbody tr th:only-of-type {\n",
       "        vertical-align: middle;\n",
       "    }\n",
       "\n",
       "    .dataframe tbody tr th {\n",
       "        vertical-align: top;\n",
       "    }\n",
       "\n",
       "    .dataframe thead th {\n",
       "        text-align: right;\n",
       "    }\n",
       "</style>\n",
       "<table border=\"1\" class=\"dataframe\">\n",
       "  <thead>\n",
       "    <tr style=\"text-align: right;\">\n",
       "      <th></th>\n",
       "      <th>RowNumber</th>\n",
       "      <th>CustomerId</th>\n",
       "      <th>Surname</th>\n",
       "      <th>CreditScore</th>\n",
       "      <th>Geography</th>\n",
       "      <th>Gender</th>\n",
       "      <th>Age</th>\n",
       "      <th>Tenure</th>\n",
       "      <th>Balance</th>\n",
       "      <th>NumOfProducts</th>\n",
       "      <th>HasCrCard</th>\n",
       "      <th>IsActiveMember</th>\n",
       "      <th>EstimatedSalary</th>\n",
       "      <th>Exited</th>\n",
       "    </tr>\n",
       "  </thead>\n",
       "  <tbody>\n",
       "    <tr>\n",
       "      <th>0</th>\n",
       "      <td>1</td>\n",
       "      <td>15634602</td>\n",
       "      <td>Hargrave</td>\n",
       "      <td>619</td>\n",
       "      <td>France</td>\n",
       "      <td>Female</td>\n",
       "      <td>42</td>\n",
       "      <td>2</td>\n",
       "      <td>0.00</td>\n",
       "      <td>1</td>\n",
       "      <td>1</td>\n",
       "      <td>1</td>\n",
       "      <td>101348.88</td>\n",
       "      <td>1</td>\n",
       "    </tr>\n",
       "    <tr>\n",
       "      <th>1</th>\n",
       "      <td>2</td>\n",
       "      <td>15647311</td>\n",
       "      <td>Hill</td>\n",
       "      <td>608</td>\n",
       "      <td>Spain</td>\n",
       "      <td>Female</td>\n",
       "      <td>41</td>\n",
       "      <td>1</td>\n",
       "      <td>83807.86</td>\n",
       "      <td>1</td>\n",
       "      <td>0</td>\n",
       "      <td>1</td>\n",
       "      <td>112542.58</td>\n",
       "      <td>0</td>\n",
       "    </tr>\n",
       "    <tr>\n",
       "      <th>2</th>\n",
       "      <td>3</td>\n",
       "      <td>15619304</td>\n",
       "      <td>Onio</td>\n",
       "      <td>502</td>\n",
       "      <td>France</td>\n",
       "      <td>Female</td>\n",
       "      <td>42</td>\n",
       "      <td>8</td>\n",
       "      <td>159660.80</td>\n",
       "      <td>3</td>\n",
       "      <td>1</td>\n",
       "      <td>0</td>\n",
       "      <td>113931.57</td>\n",
       "      <td>1</td>\n",
       "    </tr>\n",
       "    <tr>\n",
       "      <th>3</th>\n",
       "      <td>4</td>\n",
       "      <td>15701354</td>\n",
       "      <td>Boni</td>\n",
       "      <td>699</td>\n",
       "      <td>France</td>\n",
       "      <td>Female</td>\n",
       "      <td>39</td>\n",
       "      <td>1</td>\n",
       "      <td>0.00</td>\n",
       "      <td>2</td>\n",
       "      <td>0</td>\n",
       "      <td>0</td>\n",
       "      <td>93826.63</td>\n",
       "      <td>0</td>\n",
       "    </tr>\n",
       "    <tr>\n",
       "      <th>4</th>\n",
       "      <td>5</td>\n",
       "      <td>15737888</td>\n",
       "      <td>Mitchell</td>\n",
       "      <td>850</td>\n",
       "      <td>Spain</td>\n",
       "      <td>Female</td>\n",
       "      <td>43</td>\n",
       "      <td>2</td>\n",
       "      <td>125510.82</td>\n",
       "      <td>1</td>\n",
       "      <td>1</td>\n",
       "      <td>1</td>\n",
       "      <td>79084.10</td>\n",
       "      <td>0</td>\n",
       "    </tr>\n",
       "  </tbody>\n",
       "</table>\n",
       "</div>"
      ],
      "text/plain": [
       "   RowNumber  CustomerId   Surname  CreditScore Geography  Gender  Age  \\\n",
       "0          1    15634602  Hargrave          619    France  Female   42   \n",
       "1          2    15647311      Hill          608     Spain  Female   41   \n",
       "2          3    15619304      Onio          502    France  Female   42   \n",
       "3          4    15701354      Boni          699    France  Female   39   \n",
       "4          5    15737888  Mitchell          850     Spain  Female   43   \n",
       "\n",
       "   Tenure    Balance  NumOfProducts  HasCrCard  IsActiveMember  \\\n",
       "0       2       0.00              1          1               1   \n",
       "1       1   83807.86              1          0               1   \n",
       "2       8  159660.80              3          1               0   \n",
       "3       1       0.00              2          0               0   \n",
       "4       2  125510.82              1          1               1   \n",
       "\n",
       "   EstimatedSalary  Exited  \n",
       "0        101348.88       1  \n",
       "1        112542.58       0  \n",
       "2        113931.57       1  \n",
       "3         93826.63       0  \n",
       "4         79084.10       0  "
      ]
     },
     "execution_count": 2,
     "metadata": {},
     "output_type": "execute_result"
    }
   ],
   "source": [
    "# Importing the dataset\n",
    "dataset = pd.read_csv('Churn_Modelling.csv')\n",
    "dataset.head()"
   ]
  },
  {
   "cell_type": "code",
   "execution_count": 3,
   "metadata": {},
   "outputs": [
    {
     "data": {
      "text/plain": [
       "array([1, 0, 1, ..., 1, 1, 0], dtype=int64)"
      ]
     },
     "execution_count": 3,
     "metadata": {},
     "output_type": "execute_result"
    }
   ],
   "source": [
    "X = dataset.iloc[:, 3:-1].values\n",
    "y = dataset.iloc[:, 13].values\n",
    "X\n",
    "y"
   ]
  },
  {
   "cell_type": "code",
   "execution_count": 4,
   "metadata": {},
   "outputs": [
    {
     "data": {
      "text/plain": [
       "array([[619, 'France', 'Female', ..., 1, 1, 101348.88],\n",
       "       [608, 'Spain', 'Female', ..., 0, 1, 112542.58],\n",
       "       [502, 'France', 'Female', ..., 1, 0, 113931.57],\n",
       "       ...,\n",
       "       [709, 'France', 'Female', ..., 0, 1, 42085.58],\n",
       "       [772, 'Germany', 'Male', ..., 1, 0, 92888.52],\n",
       "       [792, 'France', 'Female', ..., 1, 0, 38190.78]], dtype=object)"
      ]
     },
     "execution_count": 4,
     "metadata": {},
     "output_type": "execute_result"
    }
   ],
   "source": [
    "X"
   ]
  },
  {
   "cell_type": "code",
   "execution_count": 5,
   "metadata": {},
   "outputs": [
    {
     "data": {
      "text/plain": [
       "array([1, 0, 1, ..., 1, 1, 0], dtype=int64)"
      ]
     },
     "execution_count": 5,
     "metadata": {},
     "output_type": "execute_result"
    }
   ],
   "source": [
    "y"
   ]
  },
  {
   "cell_type": "code",
   "execution_count": 6,
   "metadata": {},
   "outputs": [
    {
     "data": {
      "text/plain": [
       "array([[619, 0, 0, ..., 1, 1, 101348.88],\n",
       "       [608, 2, 0, ..., 0, 1, 112542.58],\n",
       "       [502, 0, 0, ..., 1, 0, 113931.57],\n",
       "       ...,\n",
       "       [709, 0, 0, ..., 0, 1, 42085.58],\n",
       "       [772, 1, 1, ..., 1, 0, 92888.52],\n",
       "       [792, 0, 0, ..., 1, 0, 38190.78]], dtype=object)"
      ]
     },
     "execution_count": 6,
     "metadata": {},
     "output_type": "execute_result"
    }
   ],
   "source": [
    "# Encoding categorical data\n",
    "from sklearn.preprocessing import LabelEncoder, OneHotEncoder\n",
    "labelencoder_X_1 = LabelEncoder()\n",
    "X[:, 1] = labelencoder_X_1.fit_transform(X[:, 1])\n",
    "labelencoder_X_2 = LabelEncoder()\n",
    "X[:, 2] = labelencoder_X_2.fit_transform(X[:, 2])\n",
    "\n",
    "X"
   ]
  },
  {
   "cell_type": "code",
   "execution_count": 7,
   "metadata": {},
   "outputs": [
    {
     "data": {
      "text/plain": [
       "array([1, 0, 1, ..., 1, 1, 0], dtype=int64)"
      ]
     },
     "execution_count": 7,
     "metadata": {},
     "output_type": "execute_result"
    }
   ],
   "source": [
    "y"
   ]
  },
  {
   "cell_type": "code",
   "execution_count": 8,
   "metadata": {},
   "outputs": [],
   "source": [
    "a=X[:,1]"
   ]
  },
  {
   "cell_type": "code",
   "execution_count": 9,
   "metadata": {},
   "outputs": [
    {
     "data": {
      "text/plain": [
       "array([0, 2, 0, ..., 0, 1, 0], dtype=object)"
      ]
     },
     "execution_count": 9,
     "metadata": {},
     "output_type": "execute_result"
    }
   ],
   "source": [
    "a"
   ]
  },
  {
   "cell_type": "code",
   "execution_count": 10,
   "metadata": {},
   "outputs": [],
   "source": [
    "import tensorflow as tf\n"
   ]
  },
  {
   "cell_type": "code",
   "execution_count": null,
   "metadata": {},
   "outputs": [],
   "source": []
  },
  {
   "cell_type": "code",
   "execution_count": 11,
   "metadata": {},
   "outputs": [],
   "source": [
    "#np.set_printoptions(threshold=None)"
   ]
  },
  {
   "cell_type": "code",
   "execution_count": 12,
   "metadata": {},
   "outputs": [
    {
     "name": "stderr",
     "output_type": "stream",
     "text": [
      "Using TensorFlow backend.\n"
     ]
    },
    {
     "name": "stdout",
     "output_type": "stream",
     "text": [
      "[[1. 0. 0.]\n",
      " [0. 0. 1.]\n",
      " [1. 0. 0.]\n",
      " [1. 0. 0.]\n",
      " [0. 0. 1.]]\n",
      "[[0. 0.]\n",
      " [0. 1.]\n",
      " [0. 0.]\n",
      " [0. 0.]\n",
      " [0. 1.]]\n"
     ]
    }
   ],
   "source": [
    "from keras.utils import to_categorical\n",
    "encoded = to_categorical(a)\n",
    "print(encoded[0:5])\n",
    "c=encoded[:,[1,2]]\n",
    "print(c[0:5])"
   ]
  },
  {
   "cell_type": "code",
   "execution_count": 13,
   "metadata": {},
   "outputs": [
    {
     "data": {
      "text/plain": [
       "array([[0.0, 0.0, 619, 0, 0, 42, 2, 0.0, 1, 1, 1, 101348.88],\n",
       "       [0.0, 1.0, 608, 2, 0, 41, 1, 83807.86, 1, 0, 1, 112542.58],\n",
       "       [0.0, 0.0, 502, 0, 0, 42, 8, 159660.8, 3, 1, 0, 113931.57],\n",
       "       [0.0, 0.0, 699, 0, 0, 39, 1, 0.0, 2, 0, 0, 93826.63],\n",
       "       [0.0, 1.0, 850, 2, 0, 43, 2, 125510.82, 1, 1, 1, 79084.1]],\n",
       "      dtype=object)"
      ]
     },
     "execution_count": 13,
     "metadata": {},
     "output_type": "execute_result"
    }
   ],
   "source": [
    "b=np.append(c,X, axis=1)\n",
    "b[0:5]\n"
   ]
  },
  {
   "cell_type": "code",
   "execution_count": 14,
   "metadata": {
    "scrolled": true
   },
   "outputs": [
    {
     "data": {
      "text/plain": [
       "array([[0.0, 0.0, 619, 0, 42, 2, 0.0, 1, 1, 1, 101348.88],\n",
       "       [0.0, 1.0, 608, 0, 41, 1, 83807.86, 1, 0, 1, 112542.58],\n",
       "       [0.0, 0.0, 502, 0, 42, 8, 159660.8, 3, 1, 0, 113931.57],\n",
       "       [0.0, 0.0, 699, 0, 39, 1, 0.0, 2, 0, 0, 93826.63],\n",
       "       [0.0, 1.0, 850, 0, 43, 2, 125510.82, 1, 1, 1, 79084.1]],\n",
       "      dtype=object)"
      ]
     },
     "execution_count": 14,
     "metadata": {},
     "output_type": "execute_result"
    }
   ],
   "source": [
    "b=np.delete(b,3,1)\n",
    "b[0:5]\n"
   ]
  },
  {
   "cell_type": "code",
   "execution_count": 15,
   "metadata": {},
   "outputs": [
    {
     "data": {
      "text/plain": [
       "array([[0.0, 0.0, 619, ..., 1, 1, 101348.88],\n",
       "       [0.0, 1.0, 608, ..., 0, 1, 112542.58],\n",
       "       [0.0, 0.0, 502, ..., 1, 0, 113931.57],\n",
       "       ...,\n",
       "       [0.0, 0.0, 709, ..., 0, 1, 42085.58],\n",
       "       [1.0, 0.0, 772, ..., 1, 0, 92888.52],\n",
       "       [0.0, 0.0, 792, ..., 1, 0, 38190.78]], dtype=object)"
      ]
     },
     "execution_count": 15,
     "metadata": {},
     "output_type": "execute_result"
    }
   ],
   "source": [
    "X=b\n",
    "X"
   ]
  },
  {
   "cell_type": "code",
   "execution_count": 16,
   "metadata": {},
   "outputs": [],
   "source": [
    "from sklearn.model_selection import train_test_split\n",
    "X_train, X_test, y_train, y_test = train_test_split(X, y, test_size = 0.25, random_state = 0)\n"
   ]
  },
  {
   "cell_type": "code",
   "execution_count": 17,
   "metadata": {},
   "outputs": [
    {
     "name": "stderr",
     "output_type": "stream",
     "text": [
      "C:\\Users\\Prasoon\\AppData\\Local\\Continuum\\anaconda3\\lib\\site-packages\\sklearn\\utils\\validation.py:595: DataConversionWarning: Data with input dtype object was converted to float64 by StandardScaler.\n",
      "  warnings.warn(msg, DataConversionWarning)\n",
      "C:\\Users\\Prasoon\\AppData\\Local\\Continuum\\anaconda3\\lib\\site-packages\\sklearn\\utils\\validation.py:595: DataConversionWarning: Data with input dtype object was converted to float64 by StandardScaler.\n",
      "  warnings.warn(msg, DataConversionWarning)\n",
      "C:\\Users\\Prasoon\\AppData\\Local\\Continuum\\anaconda3\\lib\\site-packages\\sklearn\\utils\\validation.py:595: DataConversionWarning: Data with input dtype object was converted to float64 by StandardScaler.\n",
      "  warnings.warn(msg, DataConversionWarning)\n"
     ]
    }
   ],
   "source": [
    "from sklearn.preprocessing import StandardScaler\n",
    "sc = StandardScaler()\n",
    "X_train = sc.fit_transform(X_train)\n",
    "X_test = sc.transform(X_test)\n"
   ]
  },
  {
   "cell_type": "code",
   "execution_count": 18,
   "metadata": {},
   "outputs": [
    {
     "data": {
      "text/plain": [
       "(7500, 11)"
      ]
     },
     "execution_count": 18,
     "metadata": {},
     "output_type": "execute_result"
    }
   ],
   "source": [
    "X_train.shape"
   ]
  },
  {
   "cell_type": "code",
   "execution_count": 19,
   "metadata": {},
   "outputs": [
    {
     "data": {
      "text/plain": [
       "(2500, 11)"
      ]
     },
     "execution_count": 19,
     "metadata": {},
     "output_type": "execute_result"
    }
   ],
   "source": [
    "X_test.shape"
   ]
  },
  {
   "cell_type": "code",
   "execution_count": 20,
   "metadata": {},
   "outputs": [
    {
     "data": {
      "text/plain": [
       "array([[ 1.76021608, -0.57468161, -0.73550706, -1.08726059,  0.01526571,\n",
       "         0.00886037,  0.67316003,  2.53503394, -1.55362351, -1.03446007,\n",
       "        -1.64080994],\n",
       "       [-0.56811207, -0.57468161,  1.02442719, -1.08726059, -0.65260917,\n",
       "         0.00886037, -1.20772417,  0.80424154,  0.64365658, -1.03446007,\n",
       "        -0.07927152],\n",
       "       [-0.56811207,  1.74009395,  0.80829492, -1.08726059, -0.46178778,\n",
       "         1.39329338, -0.35693706,  0.80424154,  0.64365658,  0.96668786,\n",
       "        -0.99684012],\n",
       "       [-0.56811207,  1.74009395,  0.39661439,  0.91974271, -0.08014499,\n",
       "         0.00886037, -0.00935627, -0.92655087,  0.64365658,  0.96668786,\n",
       "        -1.5917461 ],\n",
       "       [-0.56811207, -0.57468161, -0.46791471,  0.91974271,  1.25560478,\n",
       "         0.70107688, -1.20772417,  0.80424154,  0.64365658,  0.96668786,\n",
       "         1.28330241]])"
      ]
     },
     "execution_count": 20,
     "metadata": {},
     "output_type": "execute_result"
    }
   ],
   "source": [
    "X_train[0:5]"
   ]
  },
  {
   "cell_type": "code",
   "execution_count": 21,
   "metadata": {},
   "outputs": [],
   "source": [
    "import keras"
   ]
  },
  {
   "cell_type": "code",
   "execution_count": 22,
   "metadata": {},
   "outputs": [],
   "source": [
    "from keras.models import Sequential"
   ]
  },
  {
   "cell_type": "code",
   "execution_count": 23,
   "metadata": {},
   "outputs": [],
   "source": [
    "from keras.layers import Dense,Dropout"
   ]
  },
  {
   "cell_type": "code",
   "execution_count": 24,
   "metadata": {},
   "outputs": [],
   "source": [
    "model=Sequential()"
   ]
  },
  {
   "cell_type": "code",
   "execution_count": 25,
   "metadata": {},
   "outputs": [],
   "source": [
    "model.add(Dense(6,input_shape=(11,),activation='relu'))\n",
    "model.add(Dropout(0.1))"
   ]
  },
  {
   "cell_type": "code",
   "execution_count": 26,
   "metadata": {},
   "outputs": [],
   "source": [
    "model.add(Dense(6,activation='relu'))\n",
    "model.add(Dropout(0.1))"
   ]
  },
  {
   "cell_type": "code",
   "execution_count": 27,
   "metadata": {},
   "outputs": [],
   "source": [
    "model.add(Dense(1,activation='sigmoid'))"
   ]
  },
  {
   "cell_type": "code",
   "execution_count": 28,
   "metadata": {},
   "outputs": [],
   "source": [
    "model.compile('adam', loss='binary_crossentropy', metrics=['accuracy'])"
   ]
  },
  {
   "cell_type": "code",
   "execution_count": 62,
   "metadata": {},
   "outputs": [
    {
     "name": "stdout",
     "output_type": "stream",
     "text": [
      "Train on 6750 samples, validate on 750 samples\n",
      "Epoch 1/10\n",
      "6750/6750 [==============================] - 6s 917us/step - loss: 0.5773 - acc: 0.7330 - val_loss: 0.4675 - val_acc: 0.7960\n",
      "Epoch 2/10\n",
      "6750/6750 [==============================] - 4s 606us/step - loss: 0.4678 - acc: 0.7978 - val_loss: 0.4326 - val_acc: 0.7960\n",
      "Epoch 3/10\n",
      "6750/6750 [==============================] - 4s 569us/step - loss: 0.4547 - acc: 0.8022 - val_loss: 0.4169 - val_acc: 0.8013\n",
      "Epoch 4/10\n",
      "6750/6750 [==============================] - 4s 561us/step - loss: 0.4456 - acc: 0.8050 - val_loss: 0.4058 - val_acc: 0.8093\n",
      "Epoch 5/10\n",
      "6750/6750 [==============================] - 4s 574us/step - loss: 0.4291 - acc: 0.8095 - val_loss: 0.3934 - val_acc: 0.8267\n",
      "Epoch 6/10\n",
      "6750/6750 [==============================] - 4s 582us/step - loss: 0.4208 - acc: 0.8207 - val_loss: 0.3830 - val_acc: 0.8253\n",
      "Epoch 7/10\n",
      "6750/6750 [==============================] - 4s 553us/step - loss: 0.4119 - acc: 0.8172 - val_loss: 0.3777 - val_acc: 0.8280\n",
      "Epoch 8/10\n",
      "6750/6750 [==============================] - 4s 535us/step - loss: 0.4075 - acc: 0.8246 - val_loss: 0.3748 - val_acc: 0.8240\n",
      "Epoch 9/10\n",
      "6750/6750 [==============================] - 4s 533us/step - loss: 0.3989 - acc: 0.8308 - val_loss: 0.3710 - val_acc: 0.8267\n",
      "Epoch 10/10\n",
      "6750/6750 [==============================] - 4s 574us/step - loss: 0.3933 - acc: 0.8321 - val_loss: 0.3642 - val_acc: 0.8333\n"
     ]
    },
    {
     "data": {
      "text/plain": [
       "<keras.callbacks.History at 0x2cf22b2bcc0>"
      ]
     },
     "execution_count": 62,
     "metadata": {},
     "output_type": "execute_result"
    }
   ],
   "source": [
    "model.fit(X_train,y_train,batch_size=10, epochs=10,validation_split=0.1)"
   ]
  },
  {
   "cell_type": "code",
   "execution_count": null,
   "metadata": {},
   "outputs": [],
   "source": [
    "\n"
   ]
  },
  {
   "cell_type": "code",
   "execution_count": 63,
   "metadata": {},
   "outputs": [],
   "source": [
    "y_pred=model.predict(X_test)"
   ]
  },
  {
   "cell_type": "code",
   "execution_count": 64,
   "metadata": {},
   "outputs": [],
   "source": [
    "y_pred=(y_pred>0.5)"
   ]
  },
  {
   "cell_type": "code",
   "execution_count": 65,
   "metadata": {},
   "outputs": [],
   "source": [
    "from sklearn.metrics import confusion_matrix"
   ]
  },
  {
   "cell_type": "code",
   "execution_count": 66,
   "metadata": {},
   "outputs": [],
   "source": [
    "cm=confusion_matrix(y_test,y_pred)"
   ]
  },
  {
   "cell_type": "code",
   "execution_count": 67,
   "metadata": {},
   "outputs": [
    {
     "data": {
      "text/plain": [
       "array([[1936,   55],\n",
       "       [ 335,  174]], dtype=int64)"
      ]
     },
     "execution_count": 67,
     "metadata": {},
     "output_type": "execute_result"
    }
   ],
   "source": [
    "cm"
   ]
  },
  {
   "cell_type": "code",
   "execution_count": 68,
   "metadata": {},
   "outputs": [
    {
     "data": {
      "text/plain": [
       "0.8556"
      ]
     },
     "execution_count": 68,
     "metadata": {},
     "output_type": "execute_result"
    }
   ],
   "source": [
    "(1871+268)/(1871+268+120+241)"
   ]
  },
  {
   "cell_type": "code",
   "execution_count": 69,
   "metadata": {},
   "outputs": [
    {
     "data": {
      "text/plain": [
       "array([[0.0, 0.0, 619, ..., 1, 1, 101348.88],\n",
       "       [0.0, 1.0, 608, ..., 0, 1, 112542.58],\n",
       "       [0.0, 0.0, 502, ..., 1, 0, 113931.57],\n",
       "       ...,\n",
       "       [0.0, 0.0, 709, ..., 0, 1, 42085.58],\n",
       "       [1.0, 0.0, 772, ..., 1, 0, 92888.52],\n",
       "       [0.0, 0.0, 792, ..., 1, 0, 38190.78]], dtype=object)"
      ]
     },
     "execution_count": 69,
     "metadata": {},
     "output_type": "execute_result"
    }
   ],
   "source": [
    "X"
   ]
  },
  {
   "cell_type": "code",
   "execution_count": 70,
   "metadata": {},
   "outputs": [
    {
     "data": {
      "text/plain": [
       "array([[0.0, 0.0, 619, ..., 1, 1, 101348.88],\n",
       "       [0.0, 1.0, 608, ..., 0, 1, 112542.58],\n",
       "       [0.0, 0.0, 502, ..., 1, 0, 113931.57],\n",
       "       ...,\n",
       "       [0.0, 0.0, 709, ..., 0, 1, 42085.58],\n",
       "       [1.0, 0.0, 772, ..., 1, 0, 92888.52],\n",
       "       [0.0, 0.0, 792, ..., 1, 0, 38190.78]], dtype=object)"
      ]
     },
     "execution_count": 70,
     "metadata": {},
     "output_type": "execute_result"
    }
   ],
   "source": [
    "X"
   ]
  },
  {
   "cell_type": "code",
   "execution_count": 71,
   "metadata": {},
   "outputs": [
    {
     "name": "stderr",
     "output_type": "stream",
     "text": [
      "C:\\Users\\Prasoon\\AppData\\Local\\Continuum\\anaconda3\\lib\\site-packages\\sklearn\\utils\\validation.py:595: DataConversionWarning: Data with input dtype int32 was converted to float64 by StandardScaler.\n",
      "  warnings.warn(msg, DataConversionWarning)\n"
     ]
    }
   ],
   "source": [
    "new_model=model.predict(sc.transform(np.array([[0,0,600,1,40,3,60000,2,1,1,50000]])))"
   ]
  },
  {
   "cell_type": "code",
   "execution_count": 72,
   "metadata": {},
   "outputs": [],
   "source": [
    "new_model=(new_model>0.5)"
   ]
  },
  {
   "cell_type": "code",
   "execution_count": 73,
   "metadata": {},
   "outputs": [
    {
     "data": {
      "text/plain": [
       "array([[False]])"
      ]
     },
     "execution_count": 73,
     "metadata": {},
     "output_type": "execute_result"
    }
   ],
   "source": [
    "new_model"
   ]
  },
  {
   "cell_type": "code",
   "execution_count": 29,
   "metadata": {},
   "outputs": [],
   "source": [
    "#import talos as ta\n"
   ]
  },
  {
   "cell_type": "code",
   "execution_count": 28,
   "metadata": {},
   "outputs": [],
   "source": [
    "optimizers = ['rmsprop', 'adam']\n",
    "epochs = [10]\n",
    "batches = [5, 10,]\n",
    "param_grid = dict(optimizer=optimizers, epochs=epochs, batch_size=batches)"
   ]
  },
  {
   "cell_type": "code",
   "execution_count": 29,
   "metadata": {},
   "outputs": [],
   "source": [
    "def my_model(optimizer='rmsprop'):\n",
    "\n",
    "         model = Sequential()\n",
    "         model.add(Dense(6,input_shape=(11,),activation='relu'))\n",
    "         model.add(Dropout(0.1))\n",
    "         model.add(Dense(6,activation='relu'))\n",
    "         model.add(Dropout(0.1))\n",
    "         model.add(Dense(1,activation='sigmoid'))\n",
    "         model.compile(optimizer=optimizer, loss='binary_crossentropy', metrics=['accuracy'])\n",
    "         #out=model.fit(X_train,y_train,batch_size=params['batch_size'], epochs=params['epochs'],validation_split=0.1)\n",
    "\n",
    "         return  model"
   ]
  },
  {
   "cell_type": "code",
   "execution_count": 33,
   "metadata": {
    "collapsed": true
   },
   "outputs": [
    {
     "name": "stderr",
     "output_type": "stream",
     "text": [
      "\r",
      "  0%|                                                                                            | 0/1 [00:00<?, ?it/s]"
     ]
    },
    {
     "name": "stdout",
     "output_type": "stream",
     "text": [
      "Train on 6300 samples, validate on 700 samples\n",
      "Epoch 1/20\n",
      "6300/6300 [==============================] - ETA: 9:59 - loss: 0.5431 - acc: 0.700 - ETA: 1:06 - loss: 0.5537 - acc: 0.722 - ETA: 40s - loss: 0.5838 - acc: 0.710 - ETA: 32s - loss: 0.5554 - acc: 0.74 - ETA: 23s - loss: 0.5533 - acc: 0.75 - ETA: 16s - loss: 0.5404 - acc: 0.77 - ETA: 13s - loss: 0.5374 - acc: 0.78 - ETA: 11s - loss: 0.5353 - acc: 0.78 - ETA: 10s - loss: 0.5305 - acc: 0.78 - ETA: 9s - loss: 0.5321 - acc: 0.7831 - ETA: 9s - loss: 0.5292 - acc: 0.784 - ETA: 8s - loss: 0.5228 - acc: 0.787 - ETA: 7s - loss: 0.5192 - acc: 0.787 - ETA: 6s - loss: 0.5176 - acc: 0.787 - ETA: 5s - loss: 0.5137 - acc: 0.791 - ETA: 5s - loss: 0.5155 - acc: 0.790 - ETA: 5s - loss: 0.5151 - acc: 0.790 - ETA: 4s - loss: 0.5138 - acc: 0.790 - ETA: 4s - loss: 0.5142 - acc: 0.790 - ETA: 4s - loss: 0.5168 - acc: 0.789 - ETA: 3s - loss: 0.5144 - acc: 0.789 - ETA: 3s - loss: 0.5155 - acc: 0.790 - ETA: 3s - loss: 0.5152 - acc: 0.790 - ETA: 3s - loss: 0.5173 - acc: 0.790 - ETA: 2s - loss: 0.5179 - acc: 0.789 - ETA: 2s - loss: 0.5150 - acc: 0.790 - ETA: 2s - loss: 0.5172 - acc: 0.788 - ETA: 2s - loss: 0.5191 - acc: 0.787 - ETA: 2s - loss: 0.5205 - acc: 0.786 - ETA: 1s - loss: 0.5222 - acc: 0.785 - ETA: 1s - loss: 0.5225 - acc: 0.784 - ETA: 1s - loss: 0.5229 - acc: 0.785 - ETA: 1s - loss: 0.5223 - acc: 0.786 - ETA: 1s - loss: 0.5235 - acc: 0.785 - ETA: 1s - loss: 0.5202 - acc: 0.787 - ETA: 1s - loss: 0.5212 - acc: 0.787 - ETA: 1s - loss: 0.5186 - acc: 0.788 - ETA: 0s - loss: 0.5173 - acc: 0.789 - ETA: 0s - loss: 0.5159 - acc: 0.790 - ETA: 0s - loss: 0.5163 - acc: 0.790 - ETA: 0s - loss: 0.5185 - acc: 0.789 - ETA: 0s - loss: 0.5182 - acc: 0.789 - ETA: 0s - loss: 0.5193 - acc: 0.788 - ETA: 0s - loss: 0.5182 - acc: 0.789 - ETA: 0s - loss: 0.5179 - acc: 0.789 - ETA: 0s - loss: 0.5173 - acc: 0.790 - ETA: 0s - loss: 0.5171 - acc: 0.790 - 5s 721us/step - loss: 0.5169 - acc: 0.7908 - val_loss: 0.5194 - val_acc: 0.7843\n",
      "Epoch 2/20\n",
      "6300/6300 [==============================] - ETA: 2s - loss: 0.3719 - acc: 0.900 - ETA: 1s - loss: 0.4949 - acc: 0.820 - ETA: 1s - loss: 0.4928 - acc: 0.825 - ETA: 1s - loss: 0.4866 - acc: 0.823 - ETA: 1s - loss: 0.4988 - acc: 0.812 - ETA: 1s - loss: 0.5112 - acc: 0.800 - ETA: 1s - loss: 0.5169 - acc: 0.794 - ETA: 1s - loss: 0.5216 - acc: 0.790 - ETA: 1s - loss: 0.5165 - acc: 0.795 - ETA: 1s - loss: 0.5187 - acc: 0.791 - ETA: 1s - loss: 0.5098 - acc: 0.798 - ETA: 1s - loss: 0.5247 - acc: 0.786 - ETA: 1s - loss: 0.5258 - acc: 0.785 - ETA: 1s - loss: 0.5280 - acc: 0.784 - ETA: 1s - loss: 0.5235 - acc: 0.788 - ETA: 1s - loss: 0.5216 - acc: 0.789 - ETA: 1s - loss: 0.5189 - acc: 0.791 - ETA: 1s - loss: 0.5145 - acc: 0.794 - ETA: 1s - loss: 0.5145 - acc: 0.793 - ETA: 1s - loss: 0.5137 - acc: 0.793 - ETA: 1s - loss: 0.5129 - acc: 0.794 - ETA: 1s - loss: 0.5144 - acc: 0.792 - ETA: 1s - loss: 0.5164 - acc: 0.791 - ETA: 0s - loss: 0.5185 - acc: 0.789 - ETA: 0s - loss: 0.5183 - acc: 0.789 - ETA: 0s - loss: 0.5168 - acc: 0.790 - ETA: 0s - loss: 0.5173 - acc: 0.790 - ETA: 0s - loss: 0.5185 - acc: 0.789 - ETA: 0s - loss: 0.5169 - acc: 0.790 - ETA: 0s - loss: 0.5176 - acc: 0.789 - ETA: 0s - loss: 0.5144 - acc: 0.792 - ETA: 0s - loss: 0.5125 - acc: 0.793 - ETA: 0s - loss: 0.5088 - acc: 0.795 - ETA: 0s - loss: 0.5079 - acc: 0.796 - ETA: 0s - loss: 0.5073 - acc: 0.796 - ETA: 0s - loss: 0.5068 - acc: 0.796 - ETA: 0s - loss: 0.5062 - acc: 0.796 - ETA: 0s - loss: 0.5051 - acc: 0.797 - ETA: 0s - loss: 0.5035 - acc: 0.798 - ETA: 0s - loss: 0.5036 - acc: 0.798 - ETA: 0s - loss: 0.5042 - acc: 0.797 - ETA: 0s - loss: 0.5042 - acc: 0.798 - ETA: 0s - loss: 0.5032 - acc: 0.799 - ETA: 0s - loss: 0.5039 - acc: 0.799 - ETA: 0s - loss: 0.5032 - acc: 0.799 - ETA: 0s - loss: 0.5035 - acc: 0.799 - ETA: 0s - loss: 0.5050 - acc: 0.798 - 3s 411us/step - loss: 0.5050 - acc: 0.7984 - val_loss: 0.5202 - val_acc: 0.7843\n",
      "Epoch 3/20\n",
      "6300/6300 [==============================] - ETA: 2s - loss: 0.2466 - acc: 1.000 - ETA: 1s - loss: 0.4666 - acc: 0.825 - ETA: 2s - loss: 0.4985 - acc: 0.802 - ETA: 2s - loss: 0.4891 - acc: 0.814 - ETA: 2s - loss: 0.4923 - acc: 0.803 - ETA: 1s - loss: 0.4954 - acc: 0.800 - ETA: 1s - loss: 0.4995 - acc: 0.796 - ETA: 1s - loss: 0.4943 - acc: 0.801 - ETA: 1s - loss: 0.4984 - acc: 0.800 - ETA: 1s - loss: 0.4977 - acc: 0.800 - ETA: 1s - loss: 0.4998 - acc: 0.798 - ETA: 1s - loss: 0.4999 - acc: 0.797 - ETA: 1s - loss: 0.5018 - acc: 0.796 - ETA: 1s - loss: 0.5072 - acc: 0.792 - ETA: 1s - loss: 0.5057 - acc: 0.794 - ETA: 1s - loss: 0.4985 - acc: 0.799 - ETA: 1s - loss: 0.5030 - acc: 0.795 - ETA: 1s - loss: 0.5048 - acc: 0.794 - ETA: 1s - loss: 0.5086 - acc: 0.792 - ETA: 1s - loss: 0.5088 - acc: 0.793 - ETA: 1s - loss: 0.5079 - acc: 0.793 - ETA: 1s - loss: 0.5077 - acc: 0.794 - ETA: 1s - loss: 0.5085 - acc: 0.794 - ETA: 1s - loss: 0.5052 - acc: 0.796 - ETA: 0s - loss: 0.5036 - acc: 0.798 - ETA: 0s - loss: 0.5029 - acc: 0.798 - ETA: 0s - loss: 0.5020 - acc: 0.799 - ETA: 0s - loss: 0.5068 - acc: 0.796 - ETA: 0s - loss: 0.5084 - acc: 0.795 - ETA: 0s - loss: 0.5049 - acc: 0.796 - ETA: 0s - loss: 0.5055 - acc: 0.796 - ETA: 0s - loss: 0.5065 - acc: 0.795 - ETA: 0s - loss: 0.5057 - acc: 0.796 - ETA: 0s - loss: 0.5071 - acc: 0.796 - ETA: 0s - loss: 0.5073 - acc: 0.796 - ETA: 0s - loss: 0.5069 - acc: 0.796 - ETA: 0s - loss: 0.5048 - acc: 0.798 - ETA: 0s - loss: 0.5035 - acc: 0.799 - ETA: 0s - loss: 0.5046 - acc: 0.798 - ETA: 0s - loss: 0.5052 - acc: 0.797 - ETA: 0s - loss: 0.5059 - acc: 0.797 - 2s 356us/step - loss: 0.5046 - acc: 0.7981 - val_loss: 0.5210 - val_acc: 0.7843\n",
      "Epoch 4/20\n",
      "6300/6300 [==============================] - ETA: 2s - loss: 0.6050 - acc: 0.650 - ETA: 2s - loss: 0.6266 - acc: 0.694 - ETA: 1s - loss: 0.5972 - acc: 0.723 - ETA: 1s - loss: 0.5753 - acc: 0.746 - ETA: 1s - loss: 0.5480 - acc: 0.768 - ETA: 1s - loss: 0.5299 - acc: 0.781 - ETA: 1s - loss: 0.5213 - acc: 0.789 - ETA: 1s - loss: 0.5222 - acc: 0.787 - ETA: 1s - loss: 0.5161 - acc: 0.793 - ETA: 1s - loss: 0.5111 - acc: 0.795 - ETA: 1s - loss: 0.5120 - acc: 0.795 - ETA: 1s - loss: 0.5114 - acc: 0.796 - ETA: 1s - loss: 0.5073 - acc: 0.800 - ETA: 1s - loss: 0.5088 - acc: 0.799 - ETA: 1s - loss: 0.5055 - acc: 0.800 - ETA: 1s - loss: 0.5072 - acc: 0.800 - ETA: 1s - loss: 0.5064 - acc: 0.800 - ETA: 1s - loss: 0.5072 - acc: 0.798 - ETA: 1s - loss: 0.5108 - acc: 0.796 - ETA: 1s - loss: 0.5065 - acc: 0.799 - ETA: 1s - loss: 0.5074 - acc: 0.798 - ETA: 1s - loss: 0.5086 - acc: 0.798 - ETA: 1s - loss: 0.5100 - acc: 0.797 - ETA: 0s - loss: 0.5106 - acc: 0.797 - ETA: 0s - loss: 0.5108 - acc: 0.797 - ETA: 0s - loss: 0.5093 - acc: 0.799 - ETA: 0s - loss: 0.5080 - acc: 0.799 - ETA: 0s - loss: 0.5067 - acc: 0.799 - ETA: 0s - loss: 0.5082 - acc: 0.798 - ETA: 0s - loss: 0.5064 - acc: 0.799 - ETA: 0s - loss: 0.5033 - acc: 0.802 - ETA: 0s - loss: 0.5039 - acc: 0.802 - ETA: 0s - loss: 0.5037 - acc: 0.802 - ETA: 0s - loss: 0.5048 - acc: 0.801 - ETA: 0s - loss: 0.5053 - acc: 0.800 - ETA: 0s - loss: 0.5067 - acc: 0.799 - ETA: 0s - loss: 0.5078 - acc: 0.798 - ETA: 0s - loss: 0.5062 - acc: 0.800 - ETA: 0s - loss: 0.5075 - acc: 0.799 - ETA: 0s - loss: 0.5084 - acc: 0.798 - ETA: 0s - loss: 0.5102 - acc: 0.796 - ETA: 0s - loss: 0.5096 - acc: 0.797 - 2s 364us/step - loss: 0.5089 - acc: 0.7978 - val_loss: 0.5218 - val_acc: 0.7843\n",
      "Epoch 5/20\n",
      "6300/6300 [==============================] - ETA: 1s - loss: 0.6059 - acc: 0.700 - ETA: 1s - loss: 0.5307 - acc: 0.790 - ETA: 1s - loss: 0.5651 - acc: 0.761 - ETA: 1s - loss: 0.5459 - acc: 0.772 - ETA: 1s - loss: 0.5446 - acc: 0.770 - ETA: 1s - loss: 0.5493 - acc: 0.766 - ETA: 1s - loss: 0.5508 - acc: 0.765 - ETA: 1s - loss: 0.5456 - acc: 0.769 - ETA: 1s - loss: 0.5386 - acc: 0.773 - ETA: 1s - loss: 0.5280 - acc: 0.783 - ETA: 1s - loss: 0.5250 - acc: 0.786 - ETA: 1s - loss: 0.5247 - acc: 0.786 - ETA: 1s - loss: 0.5272 - acc: 0.784 - ETA: 1s - loss: 0.5226 - acc: 0.786 - ETA: 1s - loss: 0.5196 - acc: 0.788 - ETA: 1s - loss: 0.5172 - acc: 0.789 - ETA: 1s - loss: 0.5165 - acc: 0.790 - ETA: 1s - loss: 0.5167 - acc: 0.790 - ETA: 1s - loss: 0.5144 - acc: 0.791 - ETA: 1s - loss: 0.5100 - acc: 0.795 - ETA: 1s - loss: 0.5133 - acc: 0.793 - ETA: 1s - loss: 0.5162 - acc: 0.791 - ETA: 0s - loss: 0.5145 - acc: 0.792 - ETA: 0s - loss: 0.5115 - acc: 0.794 - ETA: 0s - loss: 0.5107 - acc: 0.795 - ETA: 0s - loss: 0.5113 - acc: 0.794 - ETA: 0s - loss: 0.5126 - acc: 0.794 - ETA: 0s - loss: 0.5096 - acc: 0.796 - ETA: 0s - loss: 0.5110 - acc: 0.795 - ETA: 0s - loss: 0.5116 - acc: 0.795 - ETA: 0s - loss: 0.5120 - acc: 0.794 - ETA: 0s - loss: 0.5126 - acc: 0.793 - ETA: 0s - loss: 0.5086 - acc: 0.796 - ETA: 0s - loss: 0.5101 - acc: 0.795 - ETA: 0s - loss: 0.5087 - acc: 0.796 - ETA: 0s - loss: 0.5076 - acc: 0.797 - ETA: 0s - loss: 0.5066 - acc: 0.797 - ETA: 0s - loss: 0.5066 - acc: 0.797 - ETA: 0s - loss: 0.5058 - acc: 0.798 - ETA: 0s - loss: 0.5065 - acc: 0.798 - ETA: 0s - loss: 0.5057 - acc: 0.798 - 2s 360us/step - loss: 0.5055 - acc: 0.7984 - val_loss: 0.5215 - val_acc: 0.7843\n",
      "Epoch 6/20\n",
      "6300/6300 [==============================] - ETA: 2s - loss: 0.4994 - acc: 0.800 - ETA: 2s - loss: 0.4961 - acc: 0.793 - ETA: 2s - loss: 0.5516 - acc: 0.756 - ETA: 2s - loss: 0.5010 - acc: 0.789 - ETA: 2s - loss: 0.5048 - acc: 0.787 - ETA: 2s - loss: 0.5229 - acc: 0.777 - ETA: 2s - loss: 0.5031 - acc: 0.790 - ETA: 2s - loss: 0.5051 - acc: 0.789 - ETA: 2s - loss: 0.5088 - acc: 0.788 - ETA: 2s - loss: 0.5039 - acc: 0.791 - ETA: 2s - loss: 0.5051 - acc: 0.790 - ETA: 2s - loss: 0.5178 - acc: 0.783 - ETA: 2s - loss: 0.5175 - acc: 0.784 - ETA: 2s - loss: 0.5154 - acc: 0.785 - ETA: 2s - loss: 0.5175 - acc: 0.785 - ETA: 1s - loss: 0.5058 - acc: 0.794 - ETA: 1s - loss: 0.5123 - acc: 0.790 - ETA: 1s - loss: 0.5196 - acc: 0.785 - ETA: 1s - loss: 0.5181 - acc: 0.786 - ETA: 1s - loss: 0.5156 - acc: 0.788 - ETA: 1s - loss: 0.5129 - acc: 0.790 - ETA: 1s - loss: 0.5166 - acc: 0.788 - ETA: 1s - loss: 0.5146 - acc: 0.790 - ETA: 1s - loss: 0.5163 - acc: 0.789 - ETA: 1s - loss: 0.5147 - acc: 0.790 - ETA: 1s - loss: 0.5137 - acc: 0.791 - ETA: 1s - loss: 0.5122 - acc: 0.792 - ETA: 1s - loss: 0.5133 - acc: 0.792 - ETA: 1s - loss: 0.5110 - acc: 0.792 - ETA: 1s - loss: 0.5083 - acc: 0.794 - ETA: 1s - loss: 0.5086 - acc: 0.794 - ETA: 1s - loss: 0.5079 - acc: 0.795 - ETA: 0s - loss: 0.5081 - acc: 0.794 - ETA: 0s - loss: 0.5074 - acc: 0.795 - ETA: 0s - loss: 0.5058 - acc: 0.795 - ETA: 0s - loss: 0.5049 - acc: 0.796 - ETA: 0s - loss: 0.5057 - acc: 0.796 - ETA: 0s - loss: 0.5065 - acc: 0.795 - ETA: 0s - loss: 0.5093 - acc: 0.794 - ETA: 0s - loss: 0.5084 - acc: 0.794 - ETA: 0s - loss: 0.5089 - acc: 0.794 - ETA: 0s - loss: 0.5081 - acc: 0.795 - ETA: 0s - loss: 0.5060 - acc: 0.796 - ETA: 0s - loss: 0.5037 - acc: 0.798 - ETA: 0s - loss: 0.5053 - acc: 0.797 - ETA: 0s - loss: 0.5050 - acc: 0.797 - ETA: 0s - loss: 0.5056 - acc: 0.797 - ETA: 0s - loss: 0.5052 - acc: 0.798 - 3s 411us/step - loss: 0.5060 - acc: 0.7979 - val_loss: 0.5219 - val_acc: 0.7843\n",
      "Epoch 7/20\n",
      "6300/6300 [==============================] - ETA: 2s - loss: 0.4085 - acc: 0.900 - ETA: 2s - loss: 0.4905 - acc: 0.811 - ETA: 1s - loss: 0.4652 - acc: 0.832 - ETA: 2s - loss: 0.4822 - acc: 0.818 - ETA: 2s - loss: 0.4908 - acc: 0.809 - ETA: 2s - loss: 0.4910 - acc: 0.808 - ETA: 2s - loss: 0.4930 - acc: 0.805 - ETA: 2s - loss: 0.4861 - acc: 0.806 - ETA: 2s - loss: 0.4825 - acc: 0.809 - ETA: 3s - loss: 0.4796 - acc: 0.812 - ETA: 3s - loss: 0.4884 - acc: 0.806 - ETA: 3s - loss: 0.4861 - acc: 0.808 - ETA: 2s - loss: 0.4810 - acc: 0.813 - ETA: 2s - loss: 0.4974 - acc: 0.801 - ETA: 2s - loss: 0.4972 - acc: 0.803 - ETA: 2s - loss: 0.4907 - acc: 0.807 - ETA: 2s - loss: 0.4913 - acc: 0.806 - ETA: 2s - loss: 0.4897 - acc: 0.808 - ETA: 2s - loss: 0.4910 - acc: 0.807 - ETA: 2s - loss: 0.4894 - acc: 0.809 - ETA: 2s - loss: 0.4969 - acc: 0.804 - ETA: 2s - loss: 0.4962 - acc: 0.804 - ETA: 2s - loss: 0.4935 - acc: 0.806 - ETA: 2s - loss: 0.4965 - acc: 0.804 - ETA: 2s - loss: 0.4996 - acc: 0.802 - ETA: 2s - loss: 0.4982 - acc: 0.803 - ETA: 2s - loss: 0.4959 - acc: 0.804 - ETA: 1s - loss: 0.4965 - acc: 0.804 - ETA: 1s - loss: 0.4947 - acc: 0.806 - ETA: 1s - loss: 0.4952 - acc: 0.805 - ETA: 1s - loss: 0.4987 - acc: 0.802 - ETA: 1s - loss: 0.5006 - acc: 0.800 - ETA: 1s - loss: 0.5015 - acc: 0.800 - ETA: 1s - loss: 0.4998 - acc: 0.801 - ETA: 1s - loss: 0.4986 - acc: 0.802 - ETA: 1s - loss: 0.4962 - acc: 0.805 - ETA: 1s - loss: 0.4983 - acc: 0.803 - ETA: 0s - loss: 0.4998 - acc: 0.802 - ETA: 0s - loss: 0.4979 - acc: 0.803 - ETA: 0s - loss: 0.4989 - acc: 0.802 - ETA: 0s - loss: 0.5019 - acc: 0.800 - ETA: 0s - loss: 0.5025 - acc: 0.799 - ETA: 0s - loss: 0.5005 - acc: 0.801 - ETA: 0s - loss: 0.4996 - acc: 0.802 - ETA: 0s - loss: 0.5014 - acc: 0.800 - ETA: 0s - loss: 0.5020 - acc: 0.800 - ETA: 0s - loss: 0.5014 - acc: 0.801 - ETA: 0s - loss: 0.4996 - acc: 0.802 - ETA: 0s - loss: 0.5004 - acc: 0.801 - ETA: 0s - loss: 0.5031 - acc: 0.799 - ETA: 0s - loss: 0.5046 - acc: 0.798 - ETA: 0s - loss: 0.5043 - acc: 0.798 - ETA: 0s - loss: 0.5052 - acc: 0.798 - 3s 461us/step - loss: 0.5048 - acc: 0.7986 - val_loss: 0.5210 - val_acc: 0.7843\n",
      "Epoch 8/20\n",
      "6300/6300 [==============================] - ETA: 4s - loss: 0.3559 - acc: 0.900 - ETA: 2s - loss: 0.4691 - acc: 0.811 - ETA: 3s - loss: 0.5035 - acc: 0.791 - ETA: 3s - loss: 0.4779 - acc: 0.817 - ETA: 3s - loss: 0.4630 - acc: 0.828 - ETA: 2s - loss: 0.4653 - acc: 0.827 - ETA: 2s - loss: 0.4687 - acc: 0.824 - ETA: 2s - loss: 0.4805 - acc: 0.817 - ETA: 2s - loss: 0.4798 - acc: 0.818 - ETA: 2s - loss: 0.4842 - acc: 0.815 - ETA: 2s - loss: 0.4848 - acc: 0.814 - ETA: 2s - loss: 0.4870 - acc: 0.812 - ETA: 2s - loss: 0.4863 - acc: 0.812 - ETA: 2s - loss: 0.4875 - acc: 0.811 - ETA: 2s - loss: 0.4921 - acc: 0.807 - ETA: 1s - loss: 0.4938 - acc: 0.806 - ETA: 1s - loss: 0.4938 - acc: 0.804 - ETA: 1s - loss: 0.4934 - acc: 0.805 - ETA: 1s - loss: 0.4947 - acc: 0.805 - ETA: 1s - loss: 0.4967 - acc: 0.805 - ETA: 1s - loss: 0.4955 - acc: 0.806 - ETA: 1s - loss: 0.4993 - acc: 0.803 - ETA: 1s - loss: 0.4984 - acc: 0.803 - ETA: 1s - loss: 0.5062 - acc: 0.798 - ETA: 1s - loss: 0.5052 - acc: 0.797 - ETA: 1s - loss: 0.5055 - acc: 0.797 - ETA: 1s - loss: 0.5044 - acc: 0.798 - ETA: 1s - loss: 0.5063 - acc: 0.796 - ETA: 0s - loss: 0.5067 - acc: 0.796 - ETA: 0s - loss: 0.5047 - acc: 0.797 - ETA: 0s - loss: 0.5043 - acc: 0.798 - ETA: 0s - loss: 0.5042 - acc: 0.798 - ETA: 0s - loss: 0.5029 - acc: 0.799 - ETA: 0s - loss: 0.5016 - acc: 0.800 - ETA: 0s - loss: 0.5032 - acc: 0.799 - ETA: 0s - loss: 0.5048 - acc: 0.798 - ETA: 0s - loss: 0.5062 - acc: 0.797 - ETA: 0s - loss: 0.5070 - acc: 0.796 - ETA: 0s - loss: 0.5065 - acc: 0.797 - ETA: 0s - loss: 0.5062 - acc: 0.797 - ETA: 0s - loss: 0.5044 - acc: 0.799 - ETA: 0s - loss: 0.5028 - acc: 0.799 - ETA: 0s - loss: 0.5054 - acc: 0.797 - ETA: 0s - loss: 0.5035 - acc: 0.799 - ETA: 0s - loss: 0.5036 - acc: 0.798 - ETA: 0s - loss: 0.5030 - acc: 0.799 - 3s 400us/step - loss: 0.5039 - acc: 0.7987 - val_loss: 0.5224 - val_acc: 0.7843\n",
      "Epoch 9/20\n"
     ]
    },
    {
     "name": "stdout",
     "output_type": "stream",
     "text": [
      "6300/6300 [==============================] - ETA: 3s - loss: 0.3898 - acc: 0.900 - ETA: 1s - loss: 0.5396 - acc: 0.770 - ETA: 2s - loss: 0.4991 - acc: 0.797 - ETA: 1s - loss: 0.4915 - acc: 0.801 - ETA: 1s - loss: 0.4858 - acc: 0.808 - ETA: 1s - loss: 0.4809 - acc: 0.814 - ETA: 1s - loss: 0.4801 - acc: 0.814 - ETA: 1s - loss: 0.4882 - acc: 0.810 - ETA: 1s - loss: 0.4830 - acc: 0.814 - ETA: 1s - loss: 0.4855 - acc: 0.814 - ETA: 1s - loss: 0.4949 - acc: 0.807 - ETA: 1s - loss: 0.4924 - acc: 0.809 - ETA: 1s - loss: 0.4940 - acc: 0.808 - ETA: 1s - loss: 0.5008 - acc: 0.803 - ETA: 1s - loss: 0.4985 - acc: 0.803 - ETA: 1s - loss: 0.4968 - acc: 0.805 - ETA: 1s - loss: 0.4962 - acc: 0.805 - ETA: 1s - loss: 0.4975 - acc: 0.804 - ETA: 1s - loss: 0.4998 - acc: 0.802 - ETA: 1s - loss: 0.4978 - acc: 0.804 - ETA: 1s - loss: 0.5002 - acc: 0.803 - ETA: 1s - loss: 0.4982 - acc: 0.804 - ETA: 1s - loss: 0.4949 - acc: 0.806 - ETA: 1s - loss: 0.4951 - acc: 0.805 - ETA: 1s - loss: 0.4954 - acc: 0.805 - ETA: 1s - loss: 0.4955 - acc: 0.806 - ETA: 1s - loss: 0.4948 - acc: 0.806 - ETA: 1s - loss: 0.4943 - acc: 0.806 - ETA: 1s - loss: 0.4931 - acc: 0.808 - ETA: 0s - loss: 0.4943 - acc: 0.807 - ETA: 0s - loss: 0.4992 - acc: 0.803 - ETA: 0s - loss: 0.4964 - acc: 0.804 - ETA: 0s - loss: 0.4971 - acc: 0.804 - ETA: 0s - loss: 0.4964 - acc: 0.804 - ETA: 0s - loss: 0.4967 - acc: 0.804 - ETA: 0s - loss: 0.4990 - acc: 0.803 - ETA: 0s - loss: 0.4972 - acc: 0.804 - ETA: 0s - loss: 0.4980 - acc: 0.803 - ETA: 0s - loss: 0.4991 - acc: 0.802 - ETA: 0s - loss: 0.4992 - acc: 0.802 - ETA: 0s - loss: 0.5014 - acc: 0.801 - ETA: 0s - loss: 0.4992 - acc: 0.803 - ETA: 0s - loss: 0.4982 - acc: 0.803 - ETA: 0s - loss: 0.4996 - acc: 0.802 - ETA: 0s - loss: 0.4999 - acc: 0.801 - ETA: 0s - loss: 0.5024 - acc: 0.799 - 3s 405us/step - loss: 0.5035 - acc: 0.7986 - val_loss: 0.5215 - val_acc: 0.7843\n",
      "Epoch 10/20\n",
      "6300/6300 [==============================] - ETA: 3s - loss: 0.6450 - acc: 0.700 - ETA: 1s - loss: 0.4895 - acc: 0.818 - ETA: 1s - loss: 0.5200 - acc: 0.787 - ETA: 1s - loss: 0.5201 - acc: 0.789 - ETA: 1s - loss: 0.4972 - acc: 0.808 - ETA: 1s - loss: 0.4904 - acc: 0.811 - ETA: 1s - loss: 0.4794 - acc: 0.819 - ETA: 1s - loss: 0.4775 - acc: 0.820 - ETA: 1s - loss: 0.4809 - acc: 0.817 - ETA: 1s - loss: 0.4788 - acc: 0.819 - ETA: 1s - loss: 0.4847 - acc: 0.816 - ETA: 1s - loss: 0.4862 - acc: 0.815 - ETA: 1s - loss: 0.4874 - acc: 0.813 - ETA: 1s - loss: 0.4869 - acc: 0.812 - ETA: 1s - loss: 0.4938 - acc: 0.808 - ETA: 1s - loss: 0.4936 - acc: 0.808 - ETA: 1s - loss: 0.4963 - acc: 0.805 - ETA: 1s - loss: 0.4997 - acc: 0.803 - ETA: 0s - loss: 0.5035 - acc: 0.800 - ETA: 0s - loss: 0.5043 - acc: 0.799 - ETA: 0s - loss: 0.5045 - acc: 0.799 - ETA: 0s - loss: 0.5045 - acc: 0.798 - ETA: 0s - loss: 0.5039 - acc: 0.798 - ETA: 0s - loss: 0.5040 - acc: 0.798 - ETA: 0s - loss: 0.5040 - acc: 0.798 - ETA: 0s - loss: 0.5043 - acc: 0.798 - ETA: 0s - loss: 0.5026 - acc: 0.799 - ETA: 0s - loss: 0.5014 - acc: 0.800 - ETA: 0s - loss: 0.5013 - acc: 0.800 - ETA: 0s - loss: 0.5008 - acc: 0.800 - ETA: 0s - loss: 0.5002 - acc: 0.801 - ETA: 0s - loss: 0.5012 - acc: 0.800 - ETA: 0s - loss: 0.5009 - acc: 0.799 - ETA: 0s - loss: 0.5024 - acc: 0.798 - ETA: 0s - loss: 0.5023 - acc: 0.798 - ETA: 0s - loss: 0.5019 - acc: 0.798 - ETA: 0s - loss: 0.5011 - acc: 0.799 - ETA: 0s - loss: 0.5011 - acc: 0.798 - ETA: 0s - loss: 0.5017 - acc: 0.798 - ETA: 0s - loss: 0.5013 - acc: 0.798 - 2s 349us/step - loss: 0.5012 - acc: 0.7986 - val_loss: 0.5211 - val_acc: 0.7843\n",
      "Epoch 11/20\n",
      "6300/6300 [==============================] - ETA: 3s - loss: 0.6176 - acc: 0.750 - ETA: 2s - loss: 0.5929 - acc: 0.735 - ETA: 2s - loss: 0.5871 - acc: 0.732 - ETA: 2s - loss: 0.5878 - acc: 0.734 - ETA: 1s - loss: 0.5638 - acc: 0.751 - ETA: 1s - loss: 0.5405 - acc: 0.770 - ETA: 1s - loss: 0.5300 - acc: 0.778 - ETA: 1s - loss: 0.5216 - acc: 0.784 - ETA: 1s - loss: 0.5149 - acc: 0.790 - ETA: 1s - loss: 0.5134 - acc: 0.790 - ETA: 1s - loss: 0.5179 - acc: 0.788 - ETA: 1s - loss: 0.5190 - acc: 0.787 - ETA: 1s - loss: 0.5181 - acc: 0.788 - ETA: 1s - loss: 0.5150 - acc: 0.790 - ETA: 1s - loss: 0.5150 - acc: 0.789 - ETA: 1s - loss: 0.5169 - acc: 0.789 - ETA: 1s - loss: 0.5113 - acc: 0.792 - ETA: 1s - loss: 0.5141 - acc: 0.789 - ETA: 1s - loss: 0.5119 - acc: 0.791 - ETA: 1s - loss: 0.5135 - acc: 0.789 - ETA: 1s - loss: 0.5114 - acc: 0.790 - ETA: 1s - loss: 0.5093 - acc: 0.792 - ETA: 1s - loss: 0.5103 - acc: 0.791 - ETA: 1s - loss: 0.5119 - acc: 0.789 - ETA: 1s - loss: 0.5084 - acc: 0.792 - ETA: 1s - loss: 0.5074 - acc: 0.794 - ETA: 1s - loss: 0.5045 - acc: 0.796 - ETA: 1s - loss: 0.5057 - acc: 0.795 - ETA: 0s - loss: 0.5041 - acc: 0.796 - ETA: 0s - loss: 0.5030 - acc: 0.797 - ETA: 0s - loss: 0.5012 - acc: 0.798 - ETA: 0s - loss: 0.5007 - acc: 0.798 - ETA: 0s - loss: 0.4992 - acc: 0.799 - ETA: 0s - loss: 0.5008 - acc: 0.798 - ETA: 0s - loss: 0.5025 - acc: 0.797 - ETA: 0s - loss: 0.5026 - acc: 0.797 - ETA: 0s - loss: 0.5037 - acc: 0.796 - ETA: 0s - loss: 0.5048 - acc: 0.795 - ETA: 0s - loss: 0.5067 - acc: 0.794 - ETA: 0s - loss: 0.5041 - acc: 0.795 - ETA: 0s - loss: 0.5031 - acc: 0.796 - ETA: 0s - loss: 0.5018 - acc: 0.797 - ETA: 0s - loss: 0.5006 - acc: 0.798 - ETA: 0s - loss: 0.4996 - acc: 0.798 - ETA: 0s - loss: 0.4994 - acc: 0.799 - ETA: 0s - loss: 0.4995 - acc: 0.798 - 3s 398us/step - loss: 0.4999 - acc: 0.7986 - val_loss: 0.5211 - val_acc: 0.7843\n",
      "Epoch 12/20\n",
      "6300/6300 [==============================] - ETA: 3s - loss: 0.6850 - acc: 0.700 - ETA: 1s - loss: 0.5803 - acc: 0.740 - ETA: 2s - loss: 0.5142 - acc: 0.785 - ETA: 2s - loss: 0.5338 - acc: 0.772 - ETA: 2s - loss: 0.5263 - acc: 0.780 - ETA: 1s - loss: 0.5220 - acc: 0.785 - ETA: 1s - loss: 0.5306 - acc: 0.778 - ETA: 1s - loss: 0.5139 - acc: 0.790 - ETA: 1s - loss: 0.5094 - acc: 0.794 - ETA: 1s - loss: 0.5116 - acc: 0.792 - ETA: 1s - loss: 0.5060 - acc: 0.796 - ETA: 1s - loss: 0.5042 - acc: 0.797 - ETA: 1s - loss: 0.5002 - acc: 0.801 - ETA: 1s - loss: 0.5103 - acc: 0.793 - ETA: 1s - loss: 0.5099 - acc: 0.793 - ETA: 1s - loss: 0.5096 - acc: 0.794 - ETA: 1s - loss: 0.5057 - acc: 0.797 - ETA: 1s - loss: 0.5042 - acc: 0.798 - ETA: 1s - loss: 0.5078 - acc: 0.795 - ETA: 1s - loss: 0.5082 - acc: 0.796 - ETA: 1s - loss: 0.5090 - acc: 0.795 - ETA: 0s - loss: 0.5047 - acc: 0.798 - ETA: 0s - loss: 0.5035 - acc: 0.799 - ETA: 0s - loss: 0.5012 - acc: 0.800 - ETA: 0s - loss: 0.4996 - acc: 0.802 - ETA: 0s - loss: 0.5001 - acc: 0.801 - ETA: 0s - loss: 0.4980 - acc: 0.802 - ETA: 0s - loss: 0.4993 - acc: 0.800 - ETA: 0s - loss: 0.4981 - acc: 0.801 - ETA: 0s - loss: 0.4966 - acc: 0.802 - ETA: 0s - loss: 0.4974 - acc: 0.801 - ETA: 0s - loss: 0.4974 - acc: 0.801 - ETA: 0s - loss: 0.4981 - acc: 0.801 - ETA: 0s - loss: 0.4982 - acc: 0.801 - ETA: 0s - loss: 0.4993 - acc: 0.800 - ETA: 0s - loss: 0.4975 - acc: 0.801 - ETA: 0s - loss: 0.4997 - acc: 0.799 - ETA: 0s - loss: 0.4969 - acc: 0.801 - ETA: 0s - loss: 0.4986 - acc: 0.800 - ETA: 0s - loss: 0.5013 - acc: 0.798 - 2s 343us/step - loss: 0.5008 - acc: 0.7986 - val_loss: 0.5213 - val_acc: 0.7843\n",
      "Epoch 13/20\n",
      "6300/6300 [==============================] - ETA: 1s - loss: 0.6742 - acc: 0.650 - ETA: 1s - loss: 0.5627 - acc: 0.745 - ETA: 1s - loss: 0.5034 - acc: 0.792 - ETA: 1s - loss: 0.4917 - acc: 0.803 - ETA: 1s - loss: 0.4964 - acc: 0.800 - ETA: 1s - loss: 0.4921 - acc: 0.803 - ETA: 1s - loss: 0.4925 - acc: 0.802 - ETA: 1s - loss: 0.4877 - acc: 0.807 - ETA: 1s - loss: 0.4874 - acc: 0.808 - ETA: 1s - loss: 0.4865 - acc: 0.808 - ETA: 1s - loss: 0.4895 - acc: 0.807 - ETA: 1s - loss: 0.4923 - acc: 0.805 - ETA: 1s - loss: 0.4903 - acc: 0.806 - ETA: 1s - loss: 0.4915 - acc: 0.806 - ETA: 1s - loss: 0.4910 - acc: 0.806 - ETA: 1s - loss: 0.4987 - acc: 0.801 - ETA: 1s - loss: 0.4992 - acc: 0.800 - ETA: 1s - loss: 0.4978 - acc: 0.801 - ETA: 1s - loss: 0.5027 - acc: 0.797 - ETA: 1s - loss: 0.4988 - acc: 0.800 - ETA: 1s - loss: 0.4981 - acc: 0.800 - ETA: 1s - loss: 0.4974 - acc: 0.800 - ETA: 0s - loss: 0.5004 - acc: 0.798 - ETA: 0s - loss: 0.5008 - acc: 0.799 - ETA: 0s - loss: 0.5028 - acc: 0.797 - ETA: 0s - loss: 0.5032 - acc: 0.797 - ETA: 0s - loss: 0.5046 - acc: 0.795 - ETA: 0s - loss: 0.5055 - acc: 0.795 - ETA: 0s - loss: 0.5049 - acc: 0.795 - ETA: 0s - loss: 0.5070 - acc: 0.794 - ETA: 0s - loss: 0.5057 - acc: 0.795 - ETA: 0s - loss: 0.5068 - acc: 0.793 - ETA: 0s - loss: 0.5072 - acc: 0.793 - ETA: 0s - loss: 0.5076 - acc: 0.793 - ETA: 0s - loss: 0.5054 - acc: 0.795 - ETA: 0s - loss: 0.5054 - acc: 0.795 - ETA: 0s - loss: 0.5053 - acc: 0.795 - ETA: 0s - loss: 0.5061 - acc: 0.795 - ETA: 0s - loss: 0.5053 - acc: 0.795 - ETA: 0s - loss: 0.5040 - acc: 0.796 - ETA: 0s - loss: 0.5026 - acc: 0.797 - 2s 355us/step - loss: 0.5017 - acc: 0.7986 - val_loss: 0.5208 - val_acc: 0.7843\n",
      "Epoch 14/20\n",
      "6300/6300 [==============================] - ETA: 2s - loss: 0.4497 - acc: 0.850 - ETA: 1s - loss: 0.5436 - acc: 0.754 - ETA: 2s - loss: 0.5098 - acc: 0.782 - ETA: 1s - loss: 0.5209 - acc: 0.776 - ETA: 1s - loss: 0.5094 - acc: 0.787 - ETA: 1s - loss: 0.5121 - acc: 0.786 - ETA: 1s - loss: 0.5069 - acc: 0.791 - ETA: 1s - loss: 0.5032 - acc: 0.793 - ETA: 1s - loss: 0.4959 - acc: 0.797 - ETA: 1s - loss: 0.4942 - acc: 0.798 - ETA: 1s - loss: 0.4909 - acc: 0.801 - ETA: 1s - loss: 0.4935 - acc: 0.800 - ETA: 1s - loss: 0.4956 - acc: 0.799 - ETA: 1s - loss: 0.4951 - acc: 0.798 - ETA: 1s - loss: 0.4952 - acc: 0.798 - ETA: 1s - loss: 0.4957 - acc: 0.798 - ETA: 1s - loss: 0.4976 - acc: 0.797 - ETA: 1s - loss: 0.5013 - acc: 0.794 - ETA: 1s - loss: 0.5029 - acc: 0.793 - ETA: 1s - loss: 0.5031 - acc: 0.793 - ETA: 0s - loss: 0.5015 - acc: 0.794 - ETA: 0s - loss: 0.5033 - acc: 0.793 - ETA: 0s - loss: 0.5028 - acc: 0.794 - ETA: 0s - loss: 0.5000 - acc: 0.796 - ETA: 0s - loss: 0.5002 - acc: 0.796 - ETA: 0s - loss: 0.5013 - acc: 0.795 - ETA: 0s - loss: 0.5011 - acc: 0.796 - ETA: 0s - loss: 0.5008 - acc: 0.796 - ETA: 0s - loss: 0.5000 - acc: 0.797 - ETA: 0s - loss: 0.4993 - acc: 0.797 - ETA: 0s - loss: 0.5014 - acc: 0.796 - ETA: 0s - loss: 0.5020 - acc: 0.796 - ETA: 0s - loss: 0.5037 - acc: 0.795 - ETA: 0s - loss: 0.5022 - acc: 0.797 - ETA: 0s - loss: 0.5018 - acc: 0.797 - ETA: 0s - loss: 0.5029 - acc: 0.796 - ETA: 0s - loss: 0.5023 - acc: 0.796 - 2s 319us/step - loss: 0.4999 - acc: 0.7986 - val_loss: 0.5202 - val_acc: 0.7843\n",
      "Epoch 15/20\n",
      "6300/6300 [==============================] - ETA: 3s - loss: 0.3402 - acc: 0.900 - ETA: 1s - loss: 0.4749 - acc: 0.818 - ETA: 1s - loss: 0.4495 - acc: 0.830 - ETA: 2s - loss: 0.4518 - acc: 0.828 - ETA: 2s - loss: 0.4583 - acc: 0.824 - ETA: 1s - loss: 0.4755 - acc: 0.811 - ETA: 1s - loss: 0.4786 - acc: 0.813 - ETA: 1s - loss: 0.4871 - acc: 0.807 - ETA: 1s - loss: 0.4982 - acc: 0.800 - ETA: 1s - loss: 0.4978 - acc: 0.801 - ETA: 1s - loss: 0.4978 - acc: 0.801 - ETA: 1s - loss: 0.4989 - acc: 0.801 - ETA: 1s - loss: 0.5022 - acc: 0.798 - ETA: 1s - loss: 0.5018 - acc: 0.798 - ETA: 1s - loss: 0.5064 - acc: 0.795 - ETA: 1s - loss: 0.5061 - acc: 0.795 - ETA: 1s - loss: 0.5074 - acc: 0.795 - ETA: 1s - loss: 0.5072 - acc: 0.794 - ETA: 1s - loss: 0.5061 - acc: 0.795 - ETA: 0s - loss: 0.5069 - acc: 0.795 - ETA: 0s - loss: 0.5065 - acc: 0.795 - ETA: 0s - loss: 0.5044 - acc: 0.796 - ETA: 0s - loss: 0.5038 - acc: 0.796 - ETA: 0s - loss: 0.5055 - acc: 0.795 - ETA: 0s - loss: 0.5068 - acc: 0.794 - ETA: 0s - loss: 0.5053 - acc: 0.795 - ETA: 0s - loss: 0.5045 - acc: 0.796 - ETA: 0s - loss: 0.5040 - acc: 0.796 - ETA: 0s - loss: 0.5049 - acc: 0.795 - ETA: 0s - loss: 0.5039 - acc: 0.796 - ETA: 0s - loss: 0.5040 - acc: 0.796 - ETA: 0s - loss: 0.5041 - acc: 0.796 - ETA: 0s - loss: 0.5035 - acc: 0.797 - ETA: 0s - loss: 0.5044 - acc: 0.796 - ETA: 0s - loss: 0.5043 - acc: 0.797 - ETA: 0s - loss: 0.5036 - acc: 0.797 - ETA: 0s - loss: 0.5025 - acc: 0.798 - ETA: 0s - loss: 0.5020 - acc: 0.798 - 2s 328us/step - loss: 0.5015 - acc: 0.7986 - val_loss: 0.5205 - val_acc: 0.7843\n",
      "Epoch 16/20\n",
      "6300/6300 [==============================] - ETA: 2s - loss: 0.5903 - acc: 0.750 - ETA: 1s - loss: 0.5158 - acc: 0.777 - ETA: 1s - loss: 0.5125 - acc: 0.790 - ETA: 1s - loss: 0.5167 - acc: 0.789 - ETA: 1s - loss: 0.5058 - acc: 0.798 - ETA: 1s - loss: 0.5081 - acc: 0.795 - ETA: 1s - loss: 0.5233 - acc: 0.784 - ETA: 1s - loss: 0.5193 - acc: 0.787 - ETA: 1s - loss: 0.5030 - acc: 0.799 - ETA: 1s - loss: 0.5033 - acc: 0.798 - ETA: 1s - loss: 0.5049 - acc: 0.796 - ETA: 1s - loss: 0.4972 - acc: 0.801 - ETA: 1s - loss: 0.5000 - acc: 0.799 - ETA: 1s - loss: 0.4983 - acc: 0.800 - ETA: 1s - loss: 0.5022 - acc: 0.798 - ETA: 1s - loss: 0.5011 - acc: 0.800 - ETA: 1s - loss: 0.5060 - acc: 0.796 - ETA: 1s - loss: 0.5056 - acc: 0.796 - ETA: 1s - loss: 0.5056 - acc: 0.796 - ETA: 1s - loss: 0.5081 - acc: 0.795 - ETA: 1s - loss: 0.5024 - acc: 0.798 - ETA: 1s - loss: 0.5020 - acc: 0.799 - ETA: 1s - loss: 0.5034 - acc: 0.797 - ETA: 1s - loss: 0.5031 - acc: 0.797 - ETA: 1s - loss: 0.5079 - acc: 0.794 - ETA: 1s - loss: 0.5065 - acc: 0.795 - ETA: 1s - loss: 0.5081 - acc: 0.793 - ETA: 1s - loss: 0.5079 - acc: 0.793 - ETA: 1s - loss: 0.5062 - acc: 0.795 - ETA: 1s - loss: 0.5048 - acc: 0.796 - ETA: 0s - loss: 0.5093 - acc: 0.792 - ETA: 0s - loss: 0.5072 - acc: 0.794 - ETA: 0s - loss: 0.5037 - acc: 0.796 - ETA: 0s - loss: 0.5044 - acc: 0.796 - ETA: 0s - loss: 0.5040 - acc: 0.796 - ETA: 0s - loss: 0.5058 - acc: 0.795 - ETA: 0s - loss: 0.5058 - acc: 0.795 - ETA: 0s - loss: 0.5046 - acc: 0.796 - ETA: 0s - loss: 0.5047 - acc: 0.795 - ETA: 0s - loss: 0.5037 - acc: 0.796 - ETA: 0s - loss: 0.5056 - acc: 0.795 - ETA: 0s - loss: 0.5054 - acc: 0.795 - ETA: 0s - loss: 0.5043 - acc: 0.796 - ETA: 0s - loss: 0.5048 - acc: 0.795 - ETA: 0s - loss: 0.5046 - acc: 0.796 - ETA: 0s - loss: 0.5035 - acc: 0.796 - ETA: 0s - loss: 0.5021 - acc: 0.797 - ETA: 0s - loss: 0.5023 - acc: 0.797 - ETA: 0s - loss: 0.5014 - acc: 0.798 - 3s 430us/step - loss: 0.5009 - acc: 0.7986 - val_loss: 0.5217 - val_acc: 0.7843\n",
      "Epoch 17/20\n"
     ]
    },
    {
     "name": "stdout",
     "output_type": "stream",
     "text": [
      "6300/6300 [==============================] - ETA: 2s - loss: 0.5545 - acc: 0.750 - ETA: 3s - loss: 0.4906 - acc: 0.808 - ETA: 3s - loss: 0.4842 - acc: 0.809 - ETA: 3s - loss: 0.5003 - acc: 0.796 - ETA: 3s - loss: 0.5095 - acc: 0.797 - ETA: 3s - loss: 0.5150 - acc: 0.792 - ETA: 2s - loss: 0.5227 - acc: 0.782 - ETA: 2s - loss: 0.5169 - acc: 0.788 - ETA: 2s - loss: 0.5123 - acc: 0.790 - ETA: 2s - loss: 0.5156 - acc: 0.787 - ETA: 1s - loss: 0.5169 - acc: 0.786 - ETA: 1s - loss: 0.5102 - acc: 0.792 - ETA: 1s - loss: 0.5027 - acc: 0.797 - ETA: 1s - loss: 0.5008 - acc: 0.798 - ETA: 1s - loss: 0.4942 - acc: 0.804 - ETA: 1s - loss: 0.5003 - acc: 0.800 - ETA: 1s - loss: 0.4992 - acc: 0.800 - ETA: 1s - loss: 0.4969 - acc: 0.802 - ETA: 1s - loss: 0.4939 - acc: 0.803 - ETA: 1s - loss: 0.4930 - acc: 0.804 - ETA: 1s - loss: 0.4947 - acc: 0.803 - ETA: 1s - loss: 0.4960 - acc: 0.803 - ETA: 1s - loss: 0.4951 - acc: 0.803 - ETA: 1s - loss: 0.4947 - acc: 0.803 - ETA: 0s - loss: 0.4968 - acc: 0.802 - ETA: 0s - loss: 0.4950 - acc: 0.802 - ETA: 0s - loss: 0.4977 - acc: 0.800 - ETA: 0s - loss: 0.4979 - acc: 0.800 - ETA: 0s - loss: 0.4978 - acc: 0.800 - ETA: 0s - loss: 0.4983 - acc: 0.799 - ETA: 0s - loss: 0.4974 - acc: 0.800 - ETA: 0s - loss: 0.4993 - acc: 0.799 - ETA: 0s - loss: 0.4988 - acc: 0.799 - ETA: 0s - loss: 0.4991 - acc: 0.799 - ETA: 0s - loss: 0.5002 - acc: 0.798 - ETA: 0s - loss: 0.5000 - acc: 0.798 - ETA: 0s - loss: 0.5006 - acc: 0.798 - ETA: 0s - loss: 0.4991 - acc: 0.799 - ETA: 0s - loss: 0.5003 - acc: 0.798 - ETA: 0s - loss: 0.5014 - acc: 0.797 - ETA: 0s - loss: 0.5000 - acc: 0.798 - 2s 360us/step - loss: 0.5003 - acc: 0.7986 - val_loss: 0.5209 - val_acc: 0.7843\n",
      "Epoch 18/20\n",
      "6300/6300 [==============================] - ETA: 2s - loss: 0.5674 - acc: 0.750 - ETA: 1s - loss: 0.5051 - acc: 0.790 - ETA: 1s - loss: 0.5191 - acc: 0.782 - ETA: 1s - loss: 0.5208 - acc: 0.777 - ETA: 1s - loss: 0.5148 - acc: 0.784 - ETA: 1s - loss: 0.5014 - acc: 0.797 - ETA: 1s - loss: 0.4991 - acc: 0.798 - ETA: 1s - loss: 0.5039 - acc: 0.794 - ETA: 1s - loss: 0.4979 - acc: 0.799 - ETA: 1s - loss: 0.4992 - acc: 0.798 - ETA: 1s - loss: 0.5025 - acc: 0.796 - ETA: 1s - loss: 0.5039 - acc: 0.794 - ETA: 1s - loss: 0.5017 - acc: 0.795 - ETA: 1s - loss: 0.5059 - acc: 0.792 - ETA: 1s - loss: 0.5047 - acc: 0.793 - ETA: 1s - loss: 0.5028 - acc: 0.794 - ETA: 1s - loss: 0.5024 - acc: 0.794 - ETA: 1s - loss: 0.4992 - acc: 0.796 - ETA: 0s - loss: 0.4961 - acc: 0.798 - ETA: 0s - loss: 0.4958 - acc: 0.799 - ETA: 0s - loss: 0.4945 - acc: 0.799 - ETA: 0s - loss: 0.4941 - acc: 0.799 - ETA: 0s - loss: 0.4946 - acc: 0.799 - ETA: 0s - loss: 0.4965 - acc: 0.797 - ETA: 0s - loss: 0.4964 - acc: 0.797 - ETA: 0s - loss: 0.4957 - acc: 0.798 - ETA: 0s - loss: 0.4961 - acc: 0.798 - ETA: 0s - loss: 0.4949 - acc: 0.799 - ETA: 0s - loss: 0.4957 - acc: 0.798 - ETA: 0s - loss: 0.4933 - acc: 0.800 - ETA: 0s - loss: 0.4919 - acc: 0.802 - ETA: 0s - loss: 0.4930 - acc: 0.801 - ETA: 0s - loss: 0.4946 - acc: 0.801 - ETA: 0s - loss: 0.4954 - acc: 0.800 - ETA: 0s - loss: 0.4950 - acc: 0.800 - ETA: 0s - loss: 0.4929 - acc: 0.802 - ETA: 0s - loss: 0.4950 - acc: 0.801 - ETA: 0s - loss: 0.4940 - acc: 0.801 - ETA: 0s - loss: 0.4926 - acc: 0.802 - ETA: 0s - loss: 0.4956 - acc: 0.800 - ETA: 0s - loss: 0.4972 - acc: 0.799 - ETA: 0s - loss: 0.4977 - acc: 0.800 - ETA: 0s - loss: 0.4971 - acc: 0.800 - ETA: 0s - loss: 0.4980 - acc: 0.799 - 2s 384us/step - loss: 0.4994 - acc: 0.7986 - val_loss: 0.5202 - val_acc: 0.7843\n",
      "Epoch 19/20\n",
      "6300/6300 [==============================] - ETA: 1s - loss: 0.3962 - acc: 0.900 - ETA: 1s - loss: 0.5117 - acc: 0.785 - ETA: 1s - loss: 0.4920 - acc: 0.797 - ETA: 1s - loss: 0.4921 - acc: 0.801 - ETA: 1s - loss: 0.4915 - acc: 0.804 - ETA: 1s - loss: 0.5022 - acc: 0.800 - ETA: 1s - loss: 0.4992 - acc: 0.802 - ETA: 1s - loss: 0.4917 - acc: 0.806 - ETA: 1s - loss: 0.4922 - acc: 0.806 - ETA: 1s - loss: 0.4888 - acc: 0.807 - ETA: 1s - loss: 0.4966 - acc: 0.801 - ETA: 1s - loss: 0.4982 - acc: 0.800 - ETA: 1s - loss: 0.4993 - acc: 0.800 - ETA: 1s - loss: 0.5042 - acc: 0.796 - ETA: 1s - loss: 0.5091 - acc: 0.793 - ETA: 1s - loss: 0.5108 - acc: 0.792 - ETA: 1s - loss: 0.5092 - acc: 0.793 - ETA: 1s - loss: 0.5081 - acc: 0.794 - ETA: 1s - loss: 0.5094 - acc: 0.794 - ETA: 1s - loss: 0.5094 - acc: 0.794 - ETA: 1s - loss: 0.5087 - acc: 0.794 - ETA: 0s - loss: 0.5086 - acc: 0.794 - ETA: 0s - loss: 0.5065 - acc: 0.796 - ETA: 0s - loss: 0.5068 - acc: 0.795 - ETA: 0s - loss: 0.5063 - acc: 0.796 - ETA: 0s - loss: 0.5090 - acc: 0.794 - ETA: 0s - loss: 0.5067 - acc: 0.795 - ETA: 0s - loss: 0.5064 - acc: 0.795 - ETA: 0s - loss: 0.5047 - acc: 0.796 - ETA: 0s - loss: 0.5055 - acc: 0.795 - ETA: 0s - loss: 0.5062 - acc: 0.795 - ETA: 0s - loss: 0.5041 - acc: 0.797 - ETA: 0s - loss: 0.5055 - acc: 0.796 - ETA: 0s - loss: 0.5021 - acc: 0.798 - ETA: 0s - loss: 0.5014 - acc: 0.799 - ETA: 0s - loss: 0.5002 - acc: 0.800 - ETA: 0s - loss: 0.5025 - acc: 0.798 - ETA: 0s - loss: 0.5001 - acc: 0.800 - ETA: 0s - loss: 0.5002 - acc: 0.799 - ETA: 0s - loss: 0.5017 - acc: 0.798 - ETA: 0s - loss: 0.5026 - acc: 0.797 - ETA: 0s - loss: 0.5016 - acc: 0.798 - ETA: 0s - loss: 0.5013 - acc: 0.798 - 2s 367us/step - loss: 0.5015 - acc: 0.7986 - val_loss: 0.5213 - val_acc: 0.7843\n",
      "Epoch 20/20\n",
      "6300/6300 [==============================] - ETA: 3s - loss: 0.3957 - acc: 0.850 - ETA: 2s - loss: 0.5161 - acc: 0.785 - ETA: 2s - loss: 0.5270 - acc: 0.782 - ETA: 2s - loss: 0.5247 - acc: 0.781 - ETA: 2s - loss: 0.5252 - acc: 0.777 - ETA: 1s - loss: 0.5110 - acc: 0.787 - ETA: 1s - loss: 0.4981 - acc: 0.796 - ETA: 2s - loss: 0.4937 - acc: 0.799 - ETA: 1s - loss: 0.4945 - acc: 0.800 - ETA: 1s - loss: 0.4922 - acc: 0.801 - ETA: 1s - loss: 0.4891 - acc: 0.803 - ETA: 1s - loss: 0.4911 - acc: 0.802 - ETA: 1s - loss: 0.4988 - acc: 0.796 - ETA: 1s - loss: 0.4970 - acc: 0.798 - ETA: 1s - loss: 0.4938 - acc: 0.802 - ETA: 1s - loss: 0.4987 - acc: 0.798 - ETA: 1s - loss: 0.4989 - acc: 0.798 - ETA: 1s - loss: 0.5059 - acc: 0.793 - ETA: 1s - loss: 0.5043 - acc: 0.794 - ETA: 1s - loss: 0.5023 - acc: 0.795 - ETA: 1s - loss: 0.5045 - acc: 0.793 - ETA: 1s - loss: 0.5036 - acc: 0.794 - ETA: 1s - loss: 0.5061 - acc: 0.793 - ETA: 1s - loss: 0.5048 - acc: 0.794 - ETA: 1s - loss: 0.5043 - acc: 0.794 - ETA: 1s - loss: 0.5025 - acc: 0.796 - ETA: 0s - loss: 0.5049 - acc: 0.795 - ETA: 0s - loss: 0.5052 - acc: 0.794 - ETA: 0s - loss: 0.5035 - acc: 0.795 - ETA: 0s - loss: 0.5037 - acc: 0.794 - ETA: 0s - loss: 0.5030 - acc: 0.795 - ETA: 0s - loss: 0.5027 - acc: 0.796 - ETA: 0s - loss: 0.5021 - acc: 0.797 - ETA: 0s - loss: 0.5035 - acc: 0.796 - ETA: 0s - loss: 0.5045 - acc: 0.795 - ETA: 0s - loss: 0.5041 - acc: 0.795 - ETA: 0s - loss: 0.5048 - acc: 0.795 - ETA: 0s - loss: 0.5045 - acc: 0.795 - ETA: 0s - loss: 0.5038 - acc: 0.795 - ETA: 0s - loss: 0.5026 - acc: 0.796 - ETA: 0s - loss: 0.5020 - acc: 0.797 - ETA: 0s - loss: 0.5022 - acc: 0.797 - ETA: 0s - loss: 0.5014 - acc: 0.797 - ETA: 0s - loss: 0.5002 - acc: 0.798 - 2s 380us/step - loss: 0.5004 - acc: 0.7986 - val_loss: 0.5210 - val_acc: 0.7843\n"
     ]
    },
    {
     "name": "stderr",
     "output_type": "stream",
     "text": [
      "100%|████████████████████████████████████████████████████████████████████████████████████| 1/1 [00:53<00:00, 53.29s/it]\n"
     ]
    },
    {
     "name": "stdout",
     "output_type": "stream",
     "text": [
      "Scan Finished!\n"
     ]
    }
   ],
   "source": [
    "#scan_object = ta.Scan(X, y, model=model, params=params, grid_downsample=0.1)\n"
   ]
  },
  {
   "cell_type": "code",
   "execution_count": 30,
   "metadata": {},
   "outputs": [],
   "source": [
    "from keras.wrappers.scikit_learn import KerasClassifier\n",
    "from sklearn.model_selection import GridSearchCV"
   ]
  },
  {
   "cell_type": "code",
   "execution_count": 31,
   "metadata": {},
   "outputs": [],
   "source": [
    "model=KerasClassifier(build_fn=my_model)\n",
    "grid=GridSearchCV(estimator=model,param_grid=param_grid,scoring='accuracy',cv=10)#cv=no. of folds\n"
   ]
  },
  {
   "cell_type": "code",
   "execution_count": 32,
   "metadata": {},
   "outputs": [
    {
     "name": "stdout",
     "output_type": "stream",
     "text": [
      "Epoch 1/10\n",
      "6750/6750 [==============================] - 8s 1ms/step - loss: 0.5216 - acc: 0.7836\n",
      "Epoch 2/10\n",
      "6750/6750 [==============================] - 7s 1ms/step - loss: 0.4581 - acc: 0.8028\n",
      "Epoch 3/10\n",
      "6750/6750 [==============================] - 7s 1ms/step - loss: 0.4477 - acc: 0.8096\n",
      "Epoch 4/10\n",
      "6750/6750 [==============================] - 7s 1ms/step - loss: 0.4356 - acc: 0.8124\n",
      "Epoch 5/10\n",
      "6750/6750 [==============================] - 7s 1ms/step - loss: 0.4350 - acc: 0.8142\n",
      "Epoch 6/10\n",
      "6750/6750 [==============================] - 7s 1ms/step - loss: 0.4266 - acc: 0.8197\n",
      "Epoch 7/10\n",
      "6750/6750 [==============================] - 7s 1ms/step - loss: 0.4291 - acc: 0.8173\n",
      "Epoch 8/10\n",
      "6750/6750 [==============================] - ETA: 0s - loss: 0.4262 - acc: 0.818 - 7s 1ms/step - loss: 0.4259 - acc: 0.8191\n",
      "Epoch 9/10\n",
      "6750/6750 [==============================] - 7s 1ms/step - loss: 0.4223 - acc: 0.8190\n",
      "Epoch 10/10\n",
      "6750/6750 [==============================] - 7s 1ms/step - loss: 0.4231 - acc: 0.8207\n",
      "Epoch 1/10\n",
      "6750/6750 [==============================] - 8s 1ms/step - loss: 0.5303 - acc: 0.7856\n",
      "Epoch 2/10\n",
      "6750/6750 [==============================] - 7s 1ms/step - loss: 0.4795 - acc: 0.7959\n",
      "Epoch 3/10\n",
      "6750/6750 [==============================] - 7s 1ms/step - loss: 0.4543 - acc: 0.8027\n",
      "Epoch 4/10\n",
      "6750/6750 [==============================] - 7s 1ms/step - loss: 0.4504 - acc: 0.8053\n",
      "Epoch 5/10\n",
      "6750/6750 [==============================] - 7s 1ms/step - loss: 0.4420 - acc: 0.8126\n",
      "Epoch 6/10\n",
      "6750/6750 [==============================] - 7s 1ms/step - loss: 0.4383 - acc: 0.8099\n",
      "Epoch 7/10\n",
      "6750/6750 [==============================] - 8s 1ms/step - loss: 0.4333 - acc: 0.8144\n",
      "Epoch 8/10\n",
      "6750/6750 [==============================] - 8s 1ms/step - loss: 0.4262 - acc: 0.8188\n",
      "Epoch 9/10\n",
      "6750/6750 [==============================] - 7s 1ms/step - loss: 0.4257 - acc: 0.8206\n",
      "Epoch 10/10\n",
      "6750/6750 [==============================] - 7s 1ms/step - loss: 0.4289 - acc: 0.8204\n",
      "Epoch 1/10\n",
      "6750/6750 [==============================] - 8s 1ms/step - loss: 0.5136 - acc: 0.7776\n",
      "Epoch 2/10\n",
      "6750/6750 [==============================] - 7s 1ms/step - loss: 0.4648 - acc: 0.7959\n",
      "Epoch 3/10\n",
      "6750/6750 [==============================] - 7s 1ms/step - loss: 0.4504 - acc: 0.8004\n",
      "Epoch 4/10\n",
      "6750/6750 [==============================] - 7s 1ms/step - loss: 0.4470 - acc: 0.8050\n",
      "Epoch 5/10\n",
      "6750/6750 [==============================] - 7s 1ms/step - loss: 0.4384 - acc: 0.8083\n",
      "Epoch 6/10\n",
      "6750/6750 [==============================] - 8s 1ms/step - loss: 0.4354 - acc: 0.8173\n",
      "Epoch 7/10\n",
      "6750/6750 [==============================] - 7s 1ms/step - loss: 0.4331 - acc: 0.8167\n",
      "Epoch 8/10\n",
      "6750/6750 [==============================] - 7s 1ms/step - loss: 0.4267 - acc: 0.8206\n",
      "Epoch 9/10\n",
      "6750/6750 [==============================] - 7s 1ms/step - loss: 0.4271 - acc: 0.8201\n",
      "Epoch 10/10\n",
      "6750/6750 [==============================] - 7s 1ms/step - loss: 0.4264 - acc: 0.8253\n",
      "Epoch 1/10\n",
      "6750/6750 [==============================] - 9s 1ms/step - loss: 0.5260 - acc: 0.7707\n",
      "Epoch 2/10\n",
      "6750/6750 [==============================] - 7s 1ms/step - loss: 0.4652 - acc: 0.7969\n",
      "Epoch 3/10\n",
      "6750/6750 [==============================] - 7s 1ms/step - loss: 0.4531 - acc: 0.7967\n",
      "Epoch 4/10\n",
      "6750/6750 [==============================] - 7s 1ms/step - loss: 0.4470 - acc: 0.7970A: 1s - \n",
      "Epoch 5/10\n",
      "6750/6750 [==============================] - 7s 1ms/step - loss: 0.4463 - acc: 0.7991\n",
      "Epoch 6/10\n",
      "6750/6750 [==============================] - 9s 1ms/step - loss: 0.4415 - acc: 0.7994\n",
      "Epoch 7/10\n",
      "6750/6750 [==============================] - 9s 1ms/step - loss: 0.4392 - acc: 0.8068\n",
      "Epoch 8/10\n",
      "6750/6750 [==============================] - 8s 1ms/step - loss: 0.4336 - acc: 0.8148\n",
      "Epoch 9/10\n",
      "6750/6750 [==============================] - 8s 1ms/step - loss: 0.4341 - acc: 0.8144\n",
      "Epoch 10/10\n",
      "6750/6750 [==============================] - 8s 1ms/step - loss: 0.4281 - acc: 0.8188\n",
      "Epoch 1/10\n",
      "6750/6750 [==============================] - 10s 2ms/step - loss: 0.5339 - acc: 0.7907\n",
      "Epoch 2/10\n",
      "6750/6750 [==============================] - 9s 1ms/step - loss: 0.4724 - acc: 0.8006\n",
      "Epoch 3/10\n",
      "6750/6750 [==============================] - 9s 1ms/step - loss: 0.4510 - acc: 0.8056\n",
      "Epoch 4/10\n",
      "6750/6750 [==============================] - 7s 1ms/step - loss: 0.4451 - acc: 0.8095\n",
      "Epoch 5/10\n",
      "6750/6750 [==============================] - 7s 1ms/step - loss: 0.4458 - acc: 0.8053\n",
      "Epoch 6/10\n",
      "6750/6750 [==============================] - 7s 1ms/step - loss: 0.4404 - acc: 0.8099A: 0s - loss: 0.4409 - acc: 0.\n",
      "Epoch 7/10\n",
      "6750/6750 [==============================] - 7s 1ms/step - loss: 0.4415 - acc: 0.8119\n",
      "Epoch 8/10\n",
      "6750/6750 [==============================] - 8s 1ms/step - loss: 0.4337 - acc: 0.8176\n",
      "Epoch 9/10\n",
      "6750/6750 [==============================] - 7s 1ms/step - loss: 0.4333 - acc: 0.8153\n",
      "Epoch 10/10\n",
      "6750/6750 [==============================] - 7s 1ms/step - loss: 0.4316 - acc: 0.8200\n",
      "Epoch 1/10\n",
      "6750/6750 [==============================] - 9s 1ms/step - loss: 0.5190 - acc: 0.7858A: 0s - loss: 0.5176 - acc\n",
      "Epoch 2/10\n",
      "6750/6750 [==============================] - 8s 1ms/step - loss: 0.4627 - acc: 0.7966\n",
      "Epoch 3/10\n",
      "6750/6750 [==============================] - 8s 1ms/step - loss: 0.4555 - acc: 0.7966\n",
      "Epoch 4/10\n",
      "6750/6750 [==============================] - 8s 1ms/step - loss: 0.4482 - acc: 0.7966\n",
      "Epoch 5/10\n",
      "6750/6750 [==============================] - 8s 1ms/step - loss: 0.4442 - acc: 0.7966\n",
      "Epoch 6/10\n",
      "6750/6750 [==============================] - 8s 1ms/step - loss: 0.4405 - acc: 0.7966\n",
      "Epoch 7/10\n",
      "6750/6750 [==============================] - 9s 1ms/step - loss: 0.4404 - acc: 0.7966\n",
      "Epoch 8/10\n",
      "6750/6750 [==============================] - 9s 1ms/step - loss: 0.4325 - acc: 0.8056\n",
      "Epoch 9/10\n",
      "6750/6750 [==============================] - 8s 1ms/step - loss: 0.4232 - acc: 0.8234\n",
      "Epoch 10/10\n",
      "6750/6750 [==============================] - 8s 1ms/step - loss: 0.4225 - acc: 0.8264A: 0s - loss: 0.4195 - acc:\n",
      "Epoch 1/10\n",
      "6750/6750 [==============================] - 10s 1ms/step - loss: 0.4956 - acc: 0.7865\n",
      "Epoch 2/10\n",
      "6750/6750 [==============================] - 8s 1ms/step - loss: 0.4637 - acc: 0.7985\n",
      "Epoch 3/10\n",
      "6750/6750 [==============================] - 8s 1ms/step - loss: 0.4504 - acc: 0.7985\n",
      "Epoch 4/10\n",
      "6750/6750 [==============================] - 8s 1ms/step - loss: 0.4479 - acc: 0.7985\n",
      "Epoch 5/10\n",
      "6750/6750 [==============================] - 8s 1ms/step - loss: 0.4460 - acc: 0.7985\n",
      "Epoch 6/10\n",
      "6750/6750 [==============================] - 8s 1ms/step - loss: 0.4467 - acc: 0.7985\n",
      "Epoch 7/10\n",
      "6750/6750 [==============================] - 8s 1ms/step - loss: 0.4388 - acc: 0.7985\n",
      "Epoch 8/10\n",
      "6750/6750 [==============================] - 8s 1ms/step - loss: 0.4391 - acc: 0.7985\n",
      "Epoch 9/10\n",
      "6750/6750 [==============================] - 8s 1ms/step - loss: 0.4400 - acc: 0.8164\n",
      "Epoch 10/10\n",
      "6750/6750 [==============================] - 9s 1ms/step - loss: 0.4348 - acc: 0.8228\n",
      "Epoch 1/10\n",
      "6750/6750 [==============================] - 13s 2ms/step - loss: 0.5059 - acc: 0.7796\n",
      "Epoch 2/10\n",
      "6750/6750 [==============================] - 9s 1ms/step - loss: 0.4581 - acc: 0.8044\n",
      "Epoch 3/10\n",
      "6750/6750 [==============================] - 9s 1ms/step - loss: 0.4496 - acc: 0.8096\n",
      "Epoch 4/10\n",
      "6750/6750 [==============================] - 8s 1ms/step - loss: 0.4421 - acc: 0.8148\n",
      "Epoch 5/10\n",
      "6750/6750 [==============================] - 8s 1ms/step - loss: 0.4324 - acc: 0.8196\n",
      "Epoch 6/10\n",
      "6750/6750 [==============================] - 8s 1ms/step - loss: 0.4258 - acc: 0.8225\n",
      "Epoch 7/10\n",
      "6750/6750 [==============================] - 8s 1ms/step - loss: 0.4230 - acc: 0.8247\n",
      "Epoch 8/10\n",
      "6750/6750 [==============================] - 8s 1ms/step - loss: 0.4197 - acc: 0.8264\n",
      "Epoch 9/10\n",
      "6750/6750 [==============================] - 8s 1ms/step - loss: 0.4143 - acc: 0.8261A\n",
      "Epoch 10/10\n",
      "6750/6750 [==============================] - 8s 1ms/step - loss: 0.4148 - acc: 0.8277\n",
      "Epoch 1/10\n",
      "6750/6750 [==============================] - 10s 1ms/step - loss: 0.5251 - acc: 0.7961\n",
      "Epoch 2/10\n",
      "6750/6750 [==============================] - 9s 1ms/step - loss: 0.4734 - acc: 0.7961\n",
      "Epoch 3/10\n",
      "6750/6750 [==============================] - 10s 2ms/step - loss: 0.4515 - acc: 0.7961\n"
     ]
    },
    {
     "name": "stdout",
     "output_type": "stream",
     "text": [
      "Epoch 4/10\n",
      "6750/6750 [==============================] - 9s 1ms/step - loss: 0.4424 - acc: 0.7960\n",
      "Epoch 5/10\n",
      "6750/6750 [==============================] - 8s 1ms/step - loss: 0.4381 - acc: 0.8187\n",
      "Epoch 6/10\n",
      "6750/6750 [==============================] - 8s 1ms/step - loss: 0.4320 - acc: 0.8204\n",
      "Epoch 7/10\n",
      "6750/6750 [==============================] - 9s 1ms/step - loss: 0.4275 - acc: 0.8207\n",
      "Epoch 8/10\n",
      "6750/6750 [==============================] - 9s 1ms/step - loss: 0.4251 - acc: 0.8193\n",
      "Epoch 9/10\n",
      "6750/6750 [==============================] - 9s 1ms/step - loss: 0.4183 - acc: 0.8221\n",
      "Epoch 10/10\n",
      "6750/6750 [==============================] - 8s 1ms/step - loss: 0.4203 - acc: 0.8210\n",
      "Epoch 1/10\n",
      "6750/6750 [==============================] - 8s 1ms/step - loss: 0.5322 - acc: 0.7653\n",
      "Epoch 2/10\n",
      "6750/6750 [==============================] - 6s 919us/step - loss: 0.4573 - acc: 0.8016\n",
      "Epoch 3/10\n",
      "6750/6750 [==============================] - 6s 940us/step - loss: 0.4444 - acc: 0.8123\n",
      "Epoch 4/10\n",
      "6750/6750 [==============================] - 7s 1ms/step - loss: 0.4335 - acc: 0.8159\n",
      "Epoch 5/10\n",
      "6750/6750 [==============================] - 6s 957us/step - loss: 0.4252 - acc: 0.8194\n",
      "Epoch 6/10\n",
      "6750/6750 [==============================] - 6s 928us/step - loss: 0.4292 - acc: 0.8201\n",
      "Epoch 7/10\n",
      "6750/6750 [==============================] - 6s 920us/step - loss: 0.4193 - acc: 0.8247\n",
      "Epoch 8/10\n",
      "6750/6750 [==============================] - 6s 924us/step - loss: 0.4233 - acc: 0.8224\n",
      "Epoch 9/10\n",
      "6750/6750 [==============================] - 6s 917us/step - loss: 0.4237 - acc: 0.8216\n",
      "Epoch 10/10\n",
      "6750/6750 [==============================] - 6s 922us/step - loss: 0.4230 - acc: 0.8218\n",
      "Epoch 1/10\n",
      "6750/6750 [==============================] - 9s 1ms/step - loss: 0.5428 - acc: 0.7607\n",
      "Epoch 2/10\n",
      "6750/6750 [==============================] - 6s 932us/step - loss: 0.4688 - acc: 0.7973\n",
      "Epoch 3/10\n",
      "6750/6750 [==============================] - 6s 950us/step - loss: 0.4495 - acc: 0.8025\n",
      "Epoch 4/10\n",
      "6750/6750 [==============================] - 7s 1ms/step - loss: 0.4323 - acc: 0.8102\n",
      "Epoch 5/10\n",
      "6750/6750 [==============================] - 7s 1ms/step - loss: 0.4267 - acc: 0.8154\n",
      "Epoch 6/10\n",
      "6750/6750 [==============================] - 9s 1ms/step - loss: 0.4216 - acc: 0.8193\n",
      "Epoch 7/10\n",
      "6750/6750 [==============================] - 10s 2ms/step - loss: 0.4158 - acc: 0.8216\n",
      "Epoch 8/10\n",
      "6750/6750 [==============================] - 9s 1ms/step - loss: 0.4104 - acc: 0.8246\n",
      "Epoch 9/10\n",
      "6750/6750 [==============================] - 9s 1ms/step - loss: 0.4129 - acc: 0.8212\n",
      "Epoch 10/10\n",
      "6750/6750 [==============================] - 8s 1ms/step - loss: 0.4099 - acc: 0.8233\n",
      "Epoch 1/10\n",
      "6750/6750 [==============================] - 12s 2ms/step - loss: 0.5044 - acc: 0.7970\n",
      "Epoch 2/10\n",
      "6750/6750 [==============================] - 8s 1ms/step - loss: 0.4495 - acc: 0.8022\n",
      "Epoch 3/10\n",
      "6750/6750 [==============================] - 8s 1ms/step - loss: 0.4404 - acc: 0.8123\n",
      "Epoch 4/10\n",
      "6750/6750 [==============================] - 8s 1ms/step - loss: 0.4365 - acc: 0.8144\n",
      "Epoch 5/10\n",
      "6750/6750 [==============================] - 9s 1ms/step - loss: 0.4280 - acc: 0.8179\n",
      "Epoch 6/10\n",
      "6750/6750 [==============================] - 9s 1ms/step - loss: 0.4257 - acc: 0.8150\n",
      "Epoch 7/10\n",
      "6750/6750 [==============================] - 8s 1ms/step - loss: 0.4249 - acc: 0.8222\n",
      "Epoch 8/10\n",
      "6750/6750 [==============================] - 7s 1ms/step - loss: 0.4214 - acc: 0.8196\n",
      "Epoch 9/10\n",
      "6750/6750 [==============================] - 8s 1ms/step - loss: 0.4171 - acc: 0.8194\n",
      "Epoch 10/10\n",
      "6750/6750 [==============================] - 8s 1ms/step - loss: 0.4140 - acc: 0.8236\n",
      "Epoch 1/10\n",
      "6750/6750 [==============================] - 9s 1ms/step - loss: 0.5275 - acc: 0.7680\n",
      "Epoch 2/10\n",
      "6750/6750 [==============================] - 7s 972us/step - loss: 0.4539 - acc: 0.8040\n",
      "Epoch 3/10\n",
      "6750/6750 [==============================] - 7s 972us/step - loss: 0.4379 - acc: 0.8110\n",
      "Epoch 4/10\n",
      "6750/6750 [==============================] - 7s 975us/step - loss: 0.4345 - acc: 0.8114\n",
      "Epoch 5/10\n",
      "6750/6750 [==============================] - 7s 977us/step - loss: 0.4217 - acc: 0.8194\n",
      "Epoch 6/10\n",
      "6750/6750 [==============================] - 7s 973us/step - loss: 0.4114 - acc: 0.8230\n",
      "Epoch 7/10\n",
      "6750/6750 [==============================] - 7s 975us/step - loss: 0.4043 - acc: 0.8236\n",
      "Epoch 8/10\n",
      "6750/6750 [==============================] - 7s 974us/step - loss: 0.4022 - acc: 0.8243\n",
      "Epoch 9/10\n",
      "6750/6750 [==============================] - 7s 974us/step - loss: 0.4062 - acc: 0.8219\n",
      "Epoch 10/10\n",
      "6750/6750 [==============================] - 7s 980us/step - loss: 0.4024 - acc: 0.8212\n",
      "Epoch 1/10\n",
      "6750/6750 [==============================] - 12s 2ms/step - loss: 0.5409 - acc: 0.7464\n",
      "Epoch 2/10\n",
      "6750/6750 [==============================] - 7s 1ms/step - loss: 0.4491 - acc: 0.8093\n",
      "Epoch 3/10\n",
      "6750/6750 [==============================] - 7s 1ms/step - loss: 0.4417 - acc: 0.8135\n",
      "Epoch 4/10\n",
      "6750/6750 [==============================] - 7s 1ms/step - loss: 0.4380 - acc: 0.8154\n",
      "Epoch 5/10\n",
      "6750/6750 [==============================] - 7s 989us/step - loss: 0.4295 - acc: 0.8212\n",
      "Epoch 6/10\n",
      "6750/6750 [==============================] - 7s 983us/step - loss: 0.4268 - acc: 0.8225\n",
      "Epoch 7/10\n",
      "6750/6750 [==============================] - 7s 985us/step - loss: 0.4163 - acc: 0.8299\n",
      "Epoch 8/10\n",
      "6750/6750 [==============================] - 7s 988us/step - loss: 0.4053 - acc: 0.8339\n",
      "Epoch 9/10\n",
      "6750/6750 [==============================] - 7s 992us/step - loss: 0.3946 - acc: 0.8378\n",
      "Epoch 10/10\n",
      "6750/6750 [==============================] - 8s 1ms/step - loss: 0.3878 - acc: 0.8427\n",
      "Epoch 1/10\n",
      "6750/6750 [==============================] - 11s 2ms/step - loss: 0.5011 - acc: 0.7784\n",
      "Epoch 2/10\n",
      "6750/6750 [==============================] - 8s 1ms/step - loss: 0.4537 - acc: 0.7936\n",
      "Epoch 3/10\n",
      "6750/6750 [==============================] - 8s 1ms/step - loss: 0.4423 - acc: 0.7954\n",
      "Epoch 4/10\n",
      "6750/6750 [==============================] - 8s 1ms/step - loss: 0.4416 - acc: 0.7948\n",
      "Epoch 5/10\n",
      "6750/6750 [==============================] - 8s 1ms/step - loss: 0.4358 - acc: 0.7960\n",
      "Epoch 6/10\n",
      "6750/6750 [==============================] - 8s 1ms/step - loss: 0.4237 - acc: 0.8013\n",
      "Epoch 7/10\n",
      "6750/6750 [==============================] - 8s 1ms/step - loss: 0.4035 - acc: 0.8247\n",
      "Epoch 8/10\n",
      "6750/6750 [==============================] - 12s 2ms/step - loss: 0.3902 - acc: 0.8335: 0s - loss: 0.3918 - acc - ETA: 0s - loss: 0.3911 -\n",
      "Epoch 9/10\n",
      "6750/6750 [==============================] - 15s 2ms/step - loss: 0.3845 - acc: 0.8416: 10s - loss: 0.3822  - ETA: 9s - loss: 0.380 - ETA: 9s - loss: 0.3866 - ac - ETA: 8s -  - ETA: 2s - loss: 0.3858 - acc: 0. - ETA: 1s - loss: 0 - ETA: 0s - loss: 0.3842 -\n",
      "Epoch 10/10\n",
      "6750/6750 [==============================] - 14s 2ms/step - loss: 0.3816 - acc: 0.8419\n",
      "Epoch 1/10\n",
      "6750/6750 [==============================] - 15s 2ms/step - loss: 0.4928 - acc: 0.7936: 4s - loss: - ETA:\n",
      "Epoch 2/10\n",
      "6750/6750 [==============================] - 10s 1ms/step - loss: 0.4507 - acc: 0.7966\n",
      "Epoch 3/10\n",
      "6750/6750 [==============================] - 10s 1ms/step - loss: 0.4429 - acc: 0.7964\n",
      "Epoch 4/10\n",
      "6750/6750 [==============================] - 10s 2ms/step - loss: 0.4359 - acc: 0.7964\n",
      "Epoch 5/10\n",
      "6750/6750 [==============================] - 10s 1ms/step - loss: 0.4318 - acc: 0.8024\n",
      "Epoch 6/10\n",
      "6750/6750 [==============================] - 10s 1ms/step - loss: 0.4291 - acc: 0.8191\n",
      "Epoch 7/10\n",
      "6750/6750 [==============================] - 10s 1ms/step - loss: 0.4265 - acc: 0.8187\n",
      "Epoch 8/10\n",
      "6750/6750 [==============================] - 11s 2ms/step - loss: 0.4249 - acc: 0.8221\n",
      "Epoch 9/10\n",
      "6750/6750 [==============================] - 9s 1ms/step - loss: 0.4209 - acc: 0.8234\n",
      "Epoch 10/10\n",
      "6750/6750 [==============================] - 8s 1ms/step - loss: 0.4181 - acc: 0.8228\n",
      "Epoch 1/10\n",
      "6750/6750 [==============================] - 11s 2ms/step - loss: 0.5112 - acc: 0.7920\n",
      "Epoch 2/10\n",
      "6750/6750 [==============================] - 8s 1ms/step - loss: 0.4513 - acc: 0.8000\n",
      "Epoch 3/10\n",
      "6750/6750 [==============================] - 8s 1ms/step - loss: 0.4378 - acc: 0.8083\n",
      "Epoch 4/10\n",
      "6750/6750 [==============================] - 10s 1ms/step - loss: 0.4331 - acc: 0.8117\n",
      "Epoch 5/10\n"
     ]
    },
    {
     "name": "stdout",
     "output_type": "stream",
     "text": [
      "6750/6750 [==============================] - 10s 1ms/step - loss: 0.4263 - acc: 0.8175\n",
      "Epoch 6/10\n",
      "6750/6750 [==============================] - 10s 1ms/step - loss: 0.4201 - acc: 0.8191\n",
      "Epoch 7/10\n",
      "6750/6750 [==============================] - 10s 1ms/step - loss: 0.4194 - acc: 0.8190\n",
      "Epoch 8/10\n",
      "6750/6750 [==============================] - 10s 1ms/step - loss: 0.4164 - acc: 0.8207\n",
      "Epoch 9/10\n",
      "6750/6750 [==============================] - 10s 1ms/step - loss: 0.4180 - acc: 0.8185\n",
      "Epoch 10/10\n",
      "6750/6750 [==============================] - 11s 2ms/step - loss: 0.4150 - acc: 0.8216\n",
      "Epoch 1/10\n",
      "6750/6750 [==============================] - 14s 2ms/step - loss: 0.4974 - acc: 0.7833\n",
      "Epoch 2/10\n",
      "6750/6750 [==============================] - 10s 2ms/step - loss: 0.4562 - acc: 0.8009\n",
      "Epoch 3/10\n",
      "6750/6750 [==============================] - 10s 1ms/step - loss: 0.4461 - acc: 0.8010\n",
      "Epoch 4/10\n",
      "6750/6750 [==============================] - 8s 1ms/step - loss: 0.4364 - acc: 0.8000\n",
      "Epoch 5/10\n",
      "6750/6750 [==============================] - 8s 1ms/step - loss: 0.4336 - acc: 0.8028\n",
      "Epoch 6/10\n",
      "6750/6750 [==============================] - 8s 1ms/step - loss: 0.4252 - acc: 0.8025\n",
      "Epoch 7/10\n",
      "6750/6750 [==============================] - 8s 1ms/step - loss: 0.4170 - acc: 0.8077\n",
      "Epoch 8/10\n",
      "6750/6750 [==============================] - 10s 1ms/step - loss: 0.4148 - acc: 0.8084\n",
      "Epoch 9/10\n",
      "6750/6750 [==============================] - 10s 2ms/step - loss: 0.4042 - acc: 0.8113\n",
      "Epoch 10/10\n",
      "6750/6750 [==============================] - 10s 2ms/step - loss: 0.3964 - acc: 0.8150\n",
      "Epoch 1/10\n",
      "6750/6750 [==============================] - 12s 2ms/step - loss: 0.5100 - acc: 0.7961\n",
      "Epoch 2/10\n",
      "6750/6750 [==============================] - 10s 2ms/step - loss: 0.4564 - acc: 0.7963\n",
      "Epoch 3/10\n",
      "6750/6750 [==============================] - 10s 2ms/step - loss: 0.4367 - acc: 0.8089\n",
      "Epoch 4/10\n",
      "6750/6750 [==============================] - 8s 1ms/step - loss: 0.4337 - acc: 0.8124\n",
      "Epoch 5/10\n",
      "6750/6750 [==============================] - 8s 1ms/step - loss: 0.4278 - acc: 0.8167\n",
      "Epoch 6/10\n",
      "6750/6750 [==============================] - 8s 1ms/step - loss: 0.4257 - acc: 0.8187\n",
      "Epoch 7/10\n",
      "6750/6750 [==============================] - 8s 1ms/step - loss: 0.4205 - acc: 0.8224\n",
      "Epoch 8/10\n",
      "6750/6750 [==============================] - 10s 1ms/step - loss: 0.4189 - acc: 0.8213\n",
      "Epoch 9/10\n",
      "6750/6750 [==============================] - 11s 2ms/step - loss: 0.4204 - acc: 0.8240\n",
      "Epoch 10/10\n",
      "6750/6750 [==============================] - 10s 1ms/step - loss: 0.4168 - acc: 0.8246\n",
      "Epoch 1/10\n",
      "6750/6750 [==============================] - 13s 2ms/step - loss: 0.5334 - acc: 0.7677\n",
      "Epoch 2/10\n",
      "6750/6750 [==============================] - 9s 1ms/step - loss: 0.4609 - acc: 0.7967\n",
      "Epoch 3/10\n",
      "6750/6750 [==============================] - 9s 1ms/step - loss: 0.4409 - acc: 0.8049\n",
      "Epoch 4/10\n",
      "6750/6750 [==============================] - 9s 1ms/step - loss: 0.4281 - acc: 0.8105\n",
      "Epoch 5/10\n",
      "6750/6750 [==============================] - 9s 1ms/step - loss: 0.4178 - acc: 0.8157\n",
      "Epoch 6/10\n",
      "6750/6750 [==============================] - 9s 1ms/step - loss: 0.4085 - acc: 0.8225\n",
      "Epoch 7/10\n",
      "6750/6750 [==============================] - 9s 1ms/step - loss: 0.3972 - acc: 0.8316\n",
      "Epoch 8/10\n",
      "6750/6750 [==============================] - 9s 1ms/step - loss: 0.3840 - acc: 0.8399\n",
      "Epoch 9/10\n",
      "6750/6750 [==============================] - 10s 1ms/step - loss: 0.3870 - acc: 0.8379\n",
      "Epoch 10/10\n",
      "6750/6750 [==============================] - 9s 1ms/step - loss: 0.3789 - acc: 0.8391\n",
      "Epoch 1/10\n",
      "6750/6750 [==============================] - 8s 1ms/step - loss: 0.5380 - acc: 0.7930\n",
      "Epoch 2/10\n",
      "6750/6750 [==============================] - 5s 693us/step - loss: 0.4716 - acc: 0.7972\n",
      "Epoch 3/10\n",
      "6750/6750 [==============================] - 5s 695us/step - loss: 0.4572 - acc: 0.7975\n",
      "Epoch 4/10\n",
      "6750/6750 [==============================] - 5s 688us/step - loss: 0.4478 - acc: 0.7976\n",
      "Epoch 5/10\n",
      "6750/6750 [==============================] - 5s 687us/step - loss: 0.4405 - acc: 0.8030\n",
      "Epoch 6/10\n",
      "6750/6750 [==============================] - 5s 695us/step - loss: 0.4384 - acc: 0.8052\n",
      "Epoch 7/10\n",
      "6750/6750 [==============================] - 5s 702us/step - loss: 0.4366 - acc: 0.8053\n",
      "Epoch 8/10\n",
      "6750/6750 [==============================] - 5s 693us/step - loss: 0.4365 - acc: 0.8043\n",
      "Epoch 9/10\n",
      "6750/6750 [==============================] - 5s 703us/step - loss: 0.4342 - acc: 0.8076\n",
      "Epoch 10/10\n",
      "6750/6750 [==============================] - 5s 695us/step - loss: 0.4297 - acc: 0.8079\n",
      "Epoch 1/10\n",
      "6750/6750 [==============================] - 8s 1ms/step - loss: 0.5237 - acc: 0.7708\n",
      "Epoch 2/10\n",
      "6750/6750 [==============================] - 5s 699us/step - loss: 0.4579 - acc: 0.8061\n",
      "Epoch 3/10\n",
      "6750/6750 [==============================] - 5s 694us/step - loss: 0.4380 - acc: 0.8096\n",
      "Epoch 4/10\n",
      "6750/6750 [==============================] - ETA: 0s - loss: 0.4317 - acc: 0.818 - 5s 699us/step - loss: 0.4319 - acc: 0.8188\n",
      "Epoch 5/10\n",
      "6750/6750 [==============================] - 5s 720us/step - loss: 0.4262 - acc: 0.8184\n",
      "Epoch 6/10\n",
      "6750/6750 [==============================] - 5s 706us/step - loss: 0.4201 - acc: 0.8191\n",
      "Epoch 7/10\n",
      "6750/6750 [==============================] - 5s 750us/step - loss: 0.4216 - acc: 0.8219 1s - loss: 0.4239 - ETA: 0s - loss: 0.4255 -\n",
      "Epoch 8/10\n",
      "6750/6750 [==============================] - 5s 814us/step - loss: 0.4175 - acc: 0.8194\n",
      "Epoch 9/10\n",
      "6750/6750 [==============================] - 5s 766us/step - loss: 0.4143 - acc: 0.8249\n",
      "Epoch 10/10\n",
      "6750/6750 [==============================] - 5s 701us/step - loss: 0.4116 - acc: 0.8231\n",
      "Epoch 1/10\n",
      "6750/6750 [==============================] - 8s 1ms/step - loss: 0.5390 - acc: 0.7745\n",
      "Epoch 2/10\n",
      "6750/6750 [==============================] - 5s 706us/step - loss: 0.4714 - acc: 0.7956\n",
      "Epoch 3/10\n",
      "6750/6750 [==============================] - 5s 707us/step - loss: 0.4542 - acc: 0.7984\n",
      "Epoch 4/10\n",
      "6750/6750 [==============================] - 5s 707us/step - loss: 0.4462 - acc: 0.8058\n",
      "Epoch 5/10\n",
      "6750/6750 [==============================] - 5s 700us/step - loss: 0.4439 - acc: 0.8096\n",
      "Epoch 6/10\n",
      "6750/6750 [==============================] - 5s 703us/step - loss: 0.4350 - acc: 0.8136\n",
      "Epoch 7/10\n",
      "6750/6750 [==============================] - 5s 758us/step - loss: 0.4318 - acc: 0.8175\n",
      "Epoch 8/10\n",
      "6750/6750 [==============================] - 5s 811us/step - loss: 0.4278 - acc: 0.8178 1s -\n",
      "Epoch 9/10\n",
      "6750/6750 [==============================] - 5s 711us/step - loss: 0.4298 - acc: 0.8150\n",
      "Epoch 10/10\n",
      "6750/6750 [==============================] - 5s 711us/step - loss: 0.4284 - acc: 0.8207\n",
      "Epoch 1/10\n",
      "6750/6750 [==============================] - 9s 1ms/step - loss: 0.5924 - acc: 0.7350\n",
      "Epoch 2/10\n",
      "6750/6750 [==============================] - 5s 708us/step - loss: 0.4901 - acc: 0.7970\n",
      "Epoch 3/10\n",
      "6750/6750 [==============================] - 5s 711us/step - loss: 0.4627 - acc: 0.7991\n",
      "Epoch 4/10\n",
      "6750/6750 [==============================] - 5s 736us/step - loss: 0.4397 - acc: 0.8043\n",
      "Epoch 5/10\n",
      "6750/6750 [==============================] - 5s 723us/step - loss: 0.4319 - acc: 0.8089\n",
      "Epoch 6/10\n",
      "6750/6750 [==============================] - 5s 714us/step - loss: 0.4292 - acc: 0.8099\n",
      "Epoch 7/10\n",
      "6750/6750 [==============================] - 5s 716us/step - loss: 0.4185 - acc: 0.8160\n",
      "Epoch 8/10\n",
      "6750/6750 [==============================] - 5s 712us/step - loss: 0.4201 - acc: 0.8126\n",
      "Epoch 9/10\n",
      "6750/6750 [==============================] - 5s 710us/step - loss: 0.4136 - acc: 0.8167\n",
      "Epoch 10/10\n",
      "6750/6750 [==============================] - 5s 712us/step - loss: 0.4108 - acc: 0.8185\n",
      "Epoch 1/10\n",
      "6750/6750 [==============================] - 9s 1ms/step - loss: 0.5215 - acc: 0.7867\n",
      "Epoch 2/10\n",
      "6750/6750 [==============================] - 5s 705us/step - loss: 0.4750 - acc: 0.7913\n",
      "Epoch 3/10\n",
      "6750/6750 [==============================] - 5s 717us/step - loss: 0.4536 - acc: 0.7913\n",
      "Epoch 4/10\n",
      "6750/6750 [==============================] - ETA: 0s - loss: 0.4467 - acc: 0.792 - 5s 718us/step - loss: 0.4466 - acc: 0.7926\n",
      "Epoch 5/10\n",
      "6750/6750 [==============================] - 5s 718us/step - loss: 0.4429 - acc: 0.7930\n",
      "Epoch 6/10\n",
      "6750/6750 [==============================] - 5s 713us/step - loss: 0.4351 - acc: 0.7950\n",
      "Epoch 7/10\n"
     ]
    },
    {
     "name": "stdout",
     "output_type": "stream",
     "text": [
      "6750/6750 [==============================] - 5s 704us/step - loss: 0.4373 - acc: 0.8006\n",
      "Epoch 8/10\n",
      "6750/6750 [==============================] - 5s 699us/step - loss: 0.4355 - acc: 0.8055\n",
      "Epoch 9/10\n",
      "6750/6750 [==============================] - 6s 847us/step - loss: 0.4336 - acc: 0.8120\n",
      "Epoch 10/10\n",
      "6750/6750 [==============================] - 5s 707us/step - loss: 0.4302 - acc: 0.8170\n",
      "Epoch 1/10\n",
      "6750/6750 [==============================] - 9s 1ms/step - loss: 0.5648 - acc: 0.7551\n",
      "Epoch 2/10\n",
      "6750/6750 [==============================] - 5s 710us/step - loss: 0.4720 - acc: 0.7975\n",
      "Epoch 3/10\n",
      "6750/6750 [==============================] - 5s 712us/step - loss: 0.4584 - acc: 0.8018\n",
      "Epoch 4/10\n",
      "6750/6750 [==============================] - 5s 707us/step - loss: 0.4492 - acc: 0.8090\n",
      "Epoch 5/10\n",
      "6750/6750 [==============================] - 5s 678us/step - loss: 0.4345 - acc: 0.8188\n",
      "Epoch 6/10\n",
      "6750/6750 [==============================] - 4s 632us/step - loss: 0.4199 - acc: 0.8279\n",
      "Epoch 7/10\n",
      "6750/6750 [==============================] - 4s 627us/step - loss: 0.4132 - acc: 0.8327\n",
      "Epoch 8/10\n",
      "6750/6750 [==============================] - 5s 745us/step - loss: 0.4084 - acc: 0.8320\n",
      "Epoch 9/10\n",
      "6750/6750 [==============================] - 5s 719us/step - loss: 0.4034 - acc: 0.8375\n",
      "Epoch 10/10\n",
      "6750/6750 [==============================] - 5s 716us/step - loss: 0.3969 - acc: 0.8401\n",
      "Epoch 1/10\n",
      "6750/6750 [==============================] - 10s 1ms/step - loss: 0.5519 - acc: 0.7701\n",
      "Epoch 2/10\n",
      "6750/6750 [==============================] - 5s 729us/step - loss: 0.4766 - acc: 0.7985\n",
      "Epoch 3/10\n",
      "6750/6750 [==============================] - 5s 731us/step - loss: 0.4573 - acc: 0.7985\n",
      "Epoch 4/10\n",
      "6750/6750 [==============================] - 5s 780us/step - loss: 0.4475 - acc: 0.7985\n",
      "Epoch 5/10\n",
      "6750/6750 [==============================] - 5s 741us/step - loss: 0.4388 - acc: 0.7985\n",
      "Epoch 6/10\n",
      "6750/6750 [==============================] - 5s 726us/step - loss: 0.4342 - acc: 0.7985\n",
      "Epoch 7/10\n",
      "6750/6750 [==============================] - 5s 753us/step - loss: 0.4319 - acc: 0.7985\n",
      "Epoch 8/10\n",
      "6750/6750 [==============================] - 4s 655us/step - loss: 0.4289 - acc: 0.7985\n",
      "Epoch 9/10\n",
      "6750/6750 [==============================] - 4s 652us/step - loss: 0.4246 - acc: 0.7985\n",
      "Epoch 10/10\n",
      "6750/6750 [==============================] - 4s 648us/step - loss: 0.4263 - acc: 0.7990\n",
      "Epoch 1/10\n",
      "6750/6750 [==============================] - 8s 1ms/step - loss: 0.5136 - acc: 0.7865\n",
      "Epoch 2/10\n",
      "6750/6750 [==============================] - 4s 649us/step - loss: 0.4609 - acc: 0.7956\n",
      "Epoch 3/10\n",
      "6750/6750 [==============================] - 4s 648us/step - loss: 0.4535 - acc: 0.7956\n",
      "Epoch 4/10\n",
      "6750/6750 [==============================] - 4s 645us/step - loss: 0.4475 - acc: 0.7956\n",
      "Epoch 5/10\n",
      "6750/6750 [==============================] - 4s 645us/step - loss: 0.4418 - acc: 0.7956\n",
      "Epoch 6/10\n",
      "6750/6750 [==============================] - 4s 650us/step - loss: 0.4345 - acc: 0.7956\n",
      "Epoch 7/10\n",
      "6750/6750 [==============================] - 4s 646us/step - loss: 0.4304 - acc: 0.7956\n",
      "Epoch 8/10\n",
      "6750/6750 [==============================] - 4s 656us/step - loss: 0.4265 - acc: 0.7956\n",
      "Epoch 9/10\n",
      "6750/6750 [==============================] - 4s 644us/step - loss: 0.4235 - acc: 0.7956\n",
      "Epoch 10/10\n",
      "6750/6750 [==============================] - 4s 653us/step - loss: 0.4208 - acc: 0.7961\n",
      "Epoch 1/10\n",
      "6750/6750 [==============================] - 8s 1ms/step - loss: 0.5418 - acc: 0.7658\n",
      "Epoch 2/10\n",
      "6750/6750 [==============================] - 4s 652us/step - loss: 0.4766 - acc: 0.7978\n",
      "Epoch 3/10\n",
      "6750/6750 [==============================] - 4s 656us/step - loss: 0.4562 - acc: 0.8050\n",
      "Epoch 4/10\n",
      "6750/6750 [==============================] - 4s 658us/step - loss: 0.4439 - acc: 0.8070\n",
      "Epoch 5/10\n",
      "6750/6750 [==============================] - 4s 665us/step - loss: 0.4421 - acc: 0.8077\n",
      "Epoch 6/10\n",
      "6750/6750 [==============================] - 4s 652us/step - loss: 0.4320 - acc: 0.8087\n",
      "Epoch 7/10\n",
      "6750/6750 [==============================] - 5s 670us/step - loss: 0.4313 - acc: 0.8108\n",
      "Epoch 8/10\n",
      "6750/6750 [==============================] - 4s 663us/step - loss: 0.4334 - acc: 0.8117\n",
      "Epoch 9/10\n",
      "6750/6750 [==============================] - 4s 653us/step - loss: 0.4263 - acc: 0.8156\n",
      "Epoch 10/10\n",
      "6750/6750 [==============================] - 4s 659us/step - loss: 0.4241 - acc: 0.8160\n",
      "Epoch 1/10\n",
      "6750/6750 [==============================] - 8s 1ms/step - loss: 0.5559 - acc: 0.7609\n",
      "Epoch 2/10\n",
      "6750/6750 [==============================] - 4s 662us/step - loss: 0.4558 - acc: 0.8052\n",
      "Epoch 3/10\n",
      "6750/6750 [==============================] - 4s 661us/step - loss: 0.4315 - acc: 0.8121\n",
      "Epoch 4/10\n",
      "6750/6750 [==============================] - 4s 662us/step - loss: 0.4175 - acc: 0.8234\n",
      "Epoch 5/10\n",
      "6750/6750 [==============================] - 5s 670us/step - loss: 0.4072 - acc: 0.8298\n",
      "Epoch 6/10\n",
      "6750/6750 [==============================] - 4s 659us/step - loss: 0.3995 - acc: 0.8363\n",
      "Epoch 7/10\n",
      "6750/6750 [==============================] - 5s 669us/step - loss: 0.3981 - acc: 0.8351\n",
      "Epoch 8/10\n",
      "6750/6750 [==============================] - 4s 659us/step - loss: 0.3955 - acc: 0.8351\n",
      "Epoch 9/10\n",
      "6750/6750 [==============================] - 4s 663us/step - loss: 0.3910 - acc: 0.8330\n",
      "Epoch 10/10\n",
      "6750/6750 [==============================] - 4s 658us/step - loss: 0.3834 - acc: 0.8406\n",
      "Epoch 1/10\n",
      "6750/6750 [==============================] - 9s 1ms/step - loss: 0.5347 - acc: 0.7821\n",
      "Epoch 2/10\n",
      "6750/6750 [==============================] - 5s 735us/step - loss: 0.4776 - acc: 0.7994\n",
      "Epoch 3/10\n",
      "6750/6750 [==============================] - 5s 684us/step - loss: 0.4568 - acc: 0.8056\n",
      "Epoch 4/10\n",
      "6750/6750 [==============================] - 5s 685us/step - loss: 0.4371 - acc: 0.8153\n",
      "Epoch 5/10\n",
      "6750/6750 [==============================] - 5s 689us/step - loss: 0.4319 - acc: 0.8145\n",
      "Epoch 6/10\n",
      "6750/6750 [==============================] - 5s 686us/step - loss: 0.4263 - acc: 0.8178\n",
      "Epoch 7/10\n",
      "6750/6750 [==============================] - 5s 707us/step - loss: 0.4191 - acc: 0.8222\n",
      "Epoch 8/10\n",
      "6750/6750 [==============================] - 5s 695us/step - loss: 0.4192 - acc: 0.8196\n",
      "Epoch 9/10\n",
      "6750/6750 [==============================] - 5s 681us/step - loss: 0.4155 - acc: 0.8243\n",
      "Epoch 10/10\n",
      "6750/6750 [==============================] - 5s 686us/step - loss: 0.4150 - acc: 0.8239\n",
      "Epoch 1/10\n",
      "6750/6750 [==============================] - 11s 2ms/step - loss: 0.6719 - acc: 0.6616\n",
      "Epoch 2/10\n",
      "6750/6750 [==============================] - 6s 877us/step - loss: 0.4819 - acc: 0.7981\n",
      "Epoch 3/10\n",
      "6750/6750 [==============================] - 6s 922us/step - loss: 0.4549 - acc: 0.8053\n",
      "Epoch 4/10\n",
      "6750/6750 [==============================] - 6s 865us/step - loss: 0.4371 - acc: 0.8107\n",
      "Epoch 5/10\n",
      "6750/6750 [==============================] - 6s 886us/step - loss: 0.4208 - acc: 0.8181\n",
      "Epoch 6/10\n",
      "6750/6750 [==============================] - 6s 876us/step - loss: 0.4021 - acc: 0.8332\n",
      "Epoch 7/10\n",
      "6750/6750 [==============================] - 6s 867us/step - loss: 0.3998 - acc: 0.8284 1s - loss:\n",
      "Epoch 8/10\n",
      "6750/6750 [==============================] - 6s 871us/step - loss: 0.3898 - acc: 0.8388\n",
      "Epoch 9/10\n",
      "6750/6750 [==============================] - 6s 875us/step - loss: 0.3857 - acc: 0.8379\n",
      "Epoch 10/10\n",
      "6750/6750 [==============================] - 6s 866us/step - loss: 0.3834 - acc: 0.8360 2s - loss: 0.3832 -\n",
      "Epoch 1/10\n",
      "6750/6750 [==============================] - 11s 2ms/step - loss: 0.5235 - acc: 0.7881\n",
      "Epoch 2/10\n",
      "6750/6750 [==============================] - 6s 880us/step - loss: 0.4756 - acc: 0.7953\n",
      "Epoch 3/10\n",
      "6750/6750 [==============================] - 6s 886us/step - loss: 0.4533 - acc: 0.7985\n",
      "Epoch 4/10\n",
      "6750/6750 [==============================] - 6s 878us/step - loss: 0.4480 - acc: 0.8022\n",
      "Epoch 5/10\n",
      "6750/6750 [==============================] - 6s 877us/step - loss: 0.4410 - acc: 0.8065\n",
      "Epoch 6/10\n",
      "6750/6750 [==============================] - 6s 874us/step - loss: 0.4405 - acc: 0.8084\n",
      "Epoch 7/10\n",
      "6750/6750 [==============================] - 6s 870us/step - loss: 0.4355 - acc: 0.8105\n",
      "Epoch 8/10\n",
      "6750/6750 [==============================] - 6s 899us/step - loss: 0.4327 - acc: 0.8117\n",
      "Epoch 9/10\n"
     ]
    },
    {
     "name": "stdout",
     "output_type": "stream",
     "text": [
      "6750/6750 [==============================] - 6s 877us/step - loss: 0.4291 - acc: 0.8124\n",
      "Epoch 10/10\n",
      "6750/6750 [==============================] - 6s 860us/step - loss: 0.4294 - acc: 0.8147\n",
      "Epoch 1/10\n",
      "6750/6750 [==============================] - 9s 1ms/step - loss: 0.5237 - acc: 0.7904\n",
      "Epoch 2/10\n",
      "6750/6750 [==============================] - 5s 705us/step - loss: 0.4611 - acc: 0.7976\n",
      "Epoch 3/10\n",
      "6750/6750 [==============================] - 5s 698us/step - loss: 0.4411 - acc: 0.8059\n",
      "Epoch 4/10\n",
      "6750/6750 [==============================] - 5s 698us/step - loss: 0.4309 - acc: 0.8136\n",
      "Epoch 5/10\n",
      "6750/6750 [==============================] - 5s 705us/step - loss: 0.4162 - acc: 0.8178\n",
      "Epoch 6/10\n",
      "6750/6750 [==============================] - 5s 701us/step - loss: 0.4080 - acc: 0.8197\n",
      "Epoch 7/10\n",
      "6750/6750 [==============================] - 5s 700us/step - loss: 0.4031 - acc: 0.8277\n",
      "Epoch 8/10\n",
      "6750/6750 [==============================] - 6s 849us/step - loss: 0.3940 - acc: 0.8317\n",
      "Epoch 9/10\n",
      "6750/6750 [==============================] - 6s 911us/step - loss: 0.3928 - acc: 0.8289\n",
      "Epoch 10/10\n",
      "6750/6750 [==============================] - 6s 893us/step - loss: 0.3834 - acc: 0.8339\n",
      "Epoch 1/10\n",
      "6750/6750 [==============================] - 12s 2ms/step - loss: 0.5274 - acc: 0.7852: 1s - loss: 0.537\n",
      "Epoch 2/10\n",
      "6750/6750 [==============================] - 6s 892us/step - loss: 0.4761 - acc: 0.7923 1s - loss: \n",
      "Epoch 3/10\n",
      "6750/6750 [==============================] - 6s 819us/step - loss: 0.4585 - acc: 0.7923\n",
      "Epoch 4/10\n",
      "6750/6750 [==============================] - 6s 817us/step - loss: 0.4509 - acc: 0.7923\n",
      "Epoch 5/10\n",
      "6750/6750 [==============================] - 5s 813us/step - loss: 0.4473 - acc: 0.7963\n",
      "Epoch 6/10\n",
      "6750/6750 [==============================] - 6s 827us/step - loss: 0.4405 - acc: 0.8086\n",
      "Epoch 7/10\n",
      "6750/6750 [==============================] - 6s 924us/step - loss: 0.4364 - acc: 0.8157\n",
      "Epoch 8/10\n",
      "6750/6750 [==============================] - 7s 1ms/step - loss: 0.4298 - acc: 0.8172A: 0s - loss: 0.435\n",
      "Epoch 9/10\n",
      "6750/6750 [==============================] - 6s 865us/step - loss: 0.4229 - acc: 0.8173\n",
      "Epoch 10/10\n",
      "6750/6750 [==============================] - 6s 827us/step - loss: 0.4167 - acc: 0.8179\n",
      "Epoch 1/10\n",
      "6750/6750 [==============================] - 10s 1ms/step - loss: 0.5145 - acc: 0.7794\n",
      "Epoch 2/10\n",
      "6750/6750 [==============================] - 6s 825us/step - loss: 0.4633 - acc: 0.8007\n",
      "Epoch 3/10\n",
      "6750/6750 [==============================] - ETA: 0s - loss: 0.4436 - acc: 0.807 - 6s 895us/step - loss: 0.4436 - acc: 0.8071\n",
      "Epoch 4/10\n",
      "6750/6750 [==============================] - 6s 894us/step - loss: 0.4347 - acc: 0.8108\n",
      "Epoch 5/10\n",
      "6750/6750 [==============================] - 6s 888us/step - loss: 0.4264 - acc: 0.8160 0s - loss: 0.4266 - acc: 0.815\n",
      "Epoch 6/10\n",
      "6750/6750 [==============================] - 7s 1ms/step - loss: 0.4198 - acc: 0.8156A\n",
      "Epoch 7/10\n",
      "6750/6750 [==============================] - 6s 909us/step - loss: 0.4156 - acc: 0.8190\n",
      "Epoch 8/10\n",
      "6750/6750 [==============================] - 6s 862us/step - loss: 0.4109 - acc: 0.8188\n",
      "Epoch 9/10\n",
      "6750/6750 [==============================] - 6s 876us/step - loss: 0.4002 - acc: 0.8287 \n",
      "Epoch 10/10\n",
      "6750/6750 [==============================] - 6s 823us/step - loss: 0.4014 - acc: 0.8307\n",
      "Epoch 1/10\n",
      "6750/6750 [==============================] - 10s 1ms/step - loss: 0.5294 - acc: 0.7713\n",
      "Epoch 2/10\n",
      "6750/6750 [==============================] - 5s 742us/step - loss: 0.4551 - acc: 0.8050\n",
      "Epoch 3/10\n",
      "6750/6750 [==============================] - 5s 746us/step - loss: 0.4304 - acc: 0.8110\n",
      "Epoch 4/10\n",
      "6750/6750 [==============================] - 5s 743us/step - loss: 0.4061 - acc: 0.8243\n",
      "Epoch 5/10\n",
      "6750/6750 [==============================] - 5s 744us/step - loss: 0.3999 - acc: 0.8277\n",
      "Epoch 6/10\n",
      "6750/6750 [==============================] - 5s 741us/step - loss: 0.3903 - acc: 0.8361\n",
      "Epoch 7/10\n",
      "6750/6750 [==============================] - 5s 747us/step - loss: 0.3912 - acc: 0.8333\n",
      "Epoch 8/10\n",
      "6750/6750 [==============================] - 5s 742us/step - loss: 0.3873 - acc: 0.8317\n",
      "Epoch 9/10\n",
      "6750/6750 [==============================] - 5s 750us/step - loss: 0.3829 - acc: 0.8361\n",
      "Epoch 10/10\n",
      "6750/6750 [==============================] - 5s 751us/step - loss: 0.3807 - acc: 0.8400\n",
      "Epoch 1/10\n",
      "6750/6750 [==============================] - 10s 1ms/step - loss: 0.6006 - acc: 0.7681\n",
      "Epoch 2/10\n",
      "6750/6750 [==============================] - 6s 898us/step - loss: 0.4997 - acc: 0.7942\n",
      "Epoch 3/10\n",
      "6750/6750 [==============================] - 5s 763us/step - loss: 0.4705 - acc: 0.7956\n",
      "Epoch 4/10\n",
      "6750/6750 [==============================] - 5s 766us/step - loss: 0.4575 - acc: 0.7953\n",
      "Epoch 5/10\n",
      "6750/6750 [==============================] - ETA: 0s - loss: 0.4464 - acc: 0.795 - 5s 756us/step - loss: 0.4462 - acc: 0.7954\n",
      "Epoch 6/10\n",
      "6750/6750 [==============================] - 5s 752us/step - loss: 0.4435 - acc: 0.7959\n",
      "Epoch 7/10\n",
      "6750/6750 [==============================] - 6s 857us/step - loss: 0.4405 - acc: 0.7967\n",
      "Epoch 8/10\n",
      "6750/6750 [==============================] - 5s 760us/step - loss: 0.4330 - acc: 0.8046\n",
      "Epoch 9/10\n",
      "6750/6750 [==============================] - 6s 825us/step - loss: 0.4290 - acc: 0.8136 0s - loss: 0.4289 - acc: 0\n",
      "Epoch 10/10\n",
      "6750/6750 [==============================] - 6s 890us/step - loss: 0.4272 - acc: 0.8167\n",
      "Epoch 1/10\n",
      "6750/6750 [==============================] - 12s 2ms/step - loss: 0.6713 - acc: 0.6625\n",
      "Epoch 2/10\n",
      "6750/6750 [==============================] - 6s 822us/step - loss: 0.5429 - acc: 0.8001\n",
      "Epoch 3/10\n",
      "6750/6750 [==============================] - 5s 763us/step - loss: 0.4948 - acc: 0.8096\n",
      "Epoch 4/10\n",
      "6750/6750 [==============================] - 5s 765us/step - loss: 0.4619 - acc: 0.8204\n",
      "Epoch 5/10\n",
      "6750/6750 [==============================] - 5s 759us/step - loss: 0.4298 - acc: 0.8369\n",
      "Epoch 6/10\n",
      "6750/6750 [==============================] - 5s 764us/step - loss: 0.4141 - acc: 0.8382\n",
      "Epoch 7/10\n",
      "6750/6750 [==============================] - 5s 762us/step - loss: 0.4045 - acc: 0.8397\n",
      "Epoch 8/10\n",
      "6750/6750 [==============================] - 5s 758us/step - loss: 0.4054 - acc: 0.8433\n",
      "Epoch 9/10\n",
      "6750/6750 [==============================] - 5s 804us/step - loss: 0.3964 - acc: 0.8453\n",
      "Epoch 10/10\n",
      "6750/6750 [==============================] - 5s 765us/step - loss: 0.3966 - acc: 0.8447\n",
      "Epoch 1/10\n",
      "6750/6750 [==============================] - 11s 2ms/step - loss: 0.5391 - acc: 0.7720\n",
      "Epoch 2/10\n",
      "6750/6750 [==============================] - 5s 773us/step - loss: 0.4759 - acc: 0.7953\n",
      "Epoch 3/10\n",
      "6750/6750 [==============================] - 5s 778us/step - loss: 0.4599 - acc: 0.8000\n",
      "Epoch 4/10\n",
      "6750/6750 [==============================] - 5s 778us/step - loss: 0.4529 - acc: 0.8041\n",
      "Epoch 5/10\n",
      "6750/6750 [==============================] - 5s 769us/step - loss: 0.4425 - acc: 0.8053\n",
      "Epoch 6/10\n",
      "6750/6750 [==============================] - 5s 795us/step - loss: 0.4373 - acc: 0.8129\n",
      "Epoch 7/10\n",
      "6750/6750 [==============================] - 5s 786us/step - loss: 0.4362 - acc: 0.8119\n",
      "Epoch 8/10\n",
      "6750/6750 [==============================] - 5s 775us/step - loss: 0.4347 - acc: 0.8117\n",
      "Epoch 9/10\n",
      "6750/6750 [==============================] - 5s 770us/step - loss: 0.4307 - acc: 0.8176\n",
      "Epoch 10/10\n",
      "6750/6750 [==============================] - 5s 772us/step - loss: 0.4281 - acc: 0.8181\n",
      "Epoch 1/10\n",
      "7500/7500 [==============================] - 11s 1ms/step - loss: 0.5238 - acc: 0.7771\n",
      "Epoch 2/10\n",
      "7500/7500 [==============================] - 6s 806us/step - loss: 0.4662 - acc: 0.7963\n",
      "Epoch 3/10\n",
      "7500/7500 [==============================] - 6s 806us/step - loss: 0.4548 - acc: 0.7963\n",
      "Epoch 4/10\n",
      "7500/7500 [==============================] - 6s 778us/step - loss: 0.4381 - acc: 0.7973\n",
      "Epoch 5/10\n",
      "7500/7500 [==============================] - 6s 780us/step - loss: 0.4297 - acc: 0.8144\n",
      "Epoch 6/10\n",
      "7500/7500 [==============================] - 6s 780us/step - loss: 0.4219 - acc: 0.8176\n",
      "Epoch 7/10\n",
      "7500/7500 [==============================] - 6s 792us/step - loss: 0.4153 - acc: 0.8172\n",
      "Epoch 8/10\n",
      "7500/7500 [==============================] - 6s 814us/step - loss: 0.4064 - acc: 0.8203\n",
      "Epoch 9/10\n",
      "7500/7500 [==============================] - 6s 843us/step - loss: 0.4069 - acc: 0.8209\n",
      "Epoch 10/10\n"
     ]
    },
    {
     "name": "stdout",
     "output_type": "stream",
     "text": [
      "7500/7500 [==============================] - 6s 771us/step - loss: 0.4032 - acc: 0.8247\n"
     ]
    }
   ],
   "source": [
    "grid_result=grid.fit(X_train,y_train)"
   ]
  },
  {
   "cell_type": "code",
   "execution_count": 33,
   "metadata": {},
   "outputs": [
    {
     "name": "stdout",
     "output_type": "stream",
     "text": [
      "Best: 0.833600 using {'batch_size': 10, 'epochs': 10, 'optimizer': 'adam'}\n",
      "0.829467 (0.013406) with: {'batch_size': 5, 'epochs': 10, 'optimizer': 'rmsprop'}\n",
      "0.833067 (0.016512) with: {'batch_size': 5, 'epochs': 10, 'optimizer': 'adam'}\n",
      "0.826533 (0.021961) with: {'batch_size': 10, 'epochs': 10, 'optimizer': 'rmsprop'}\n",
      "0.833600 (0.015796) with: {'batch_size': 10, 'epochs': 10, 'optimizer': 'adam'}\n"
     ]
    }
   ],
   "source": [
    "print(\"Best: %f using %s\" % (grid_result.best_score_, grid_result.best_params_))\n",
    "means = grid_result.cv_results_['mean_test_score']\n",
    "stds = grid_result.cv_results_['std_test_score']\n",
    "params = grid_result.cv_results_['params']\n",
    "for mean, stdev, param in zip(means, stds, params):\n",
    "\tprint(\"%f (%f) with: %r\" % (mean, stdev, param))"
   ]
  },
  {
   "cell_type": "code",
   "execution_count": 34,
   "metadata": {},
   "outputs": [
    {
     "data": {
      "text/plain": [
       "{'batch_size': 10, 'epochs': 10, 'optimizer': 'adam'}"
      ]
     },
     "execution_count": 34,
     "metadata": {},
     "output_type": "execute_result"
    }
   ],
   "source": [
    "grid.best_params_\n"
   ]
  },
  {
   "cell_type": "code",
   "execution_count": 35,
   "metadata": {},
   "outputs": [
    {
     "data": {
      "text/plain": [
       "0.8336"
      ]
     },
     "execution_count": 35,
     "metadata": {},
     "output_type": "execute_result"
    }
   ],
   "source": [
    "grid.best_score_"
   ]
  },
  {
   "cell_type": "code",
   "execution_count": null,
   "metadata": {},
   "outputs": [],
   "source": []
  }
 ],
 "metadata": {
  "kernelspec": {
   "display_name": "Python 3",
   "language": "python",
   "name": "python3"
  },
  "language_info": {
   "codemirror_mode": {
    "name": "ipython",
    "version": 3
   },
   "file_extension": ".py",
   "mimetype": "text/x-python",
   "name": "python",
   "nbconvert_exporter": "python",
   "pygments_lexer": "ipython3",
   "version": "3.6.8"
  },
  "varInspector": {
   "cols": {
    "lenName": 16,
    "lenType": 16,
    "lenVar": 40
   },
   "kernels_config": {
    "python": {
     "delete_cmd_postfix": "",
     "delete_cmd_prefix": "del ",
     "library": "var_list.py",
     "varRefreshCmd": "print(var_dic_list())"
    },
    "r": {
     "delete_cmd_postfix": ") ",
     "delete_cmd_prefix": "rm(",
     "library": "var_list.r",
     "varRefreshCmd": "cat(var_dic_list()) "
    }
   },
   "types_to_exclude": [
    "module",
    "function",
    "builtin_function_or_method",
    "instance",
    "_Feature"
   ],
   "window_display": false
  }
 },
 "nbformat": 4,
 "nbformat_minor": 2
}
